{
  "cells": [
    {
      "cell_type": "markdown",
      "metadata": {
        "id": "view-in-github",
        "colab_type": "text"
      },
      "source": [
        "<a href=\"https://colab.research.google.com/github/Blaqadonis/Classification-Exam-Explore/blob/main/Odiaka_Chinonso_Homework2.ipynb\" target=\"_parent\"><img src=\"https://colab.research.google.com/assets/colab-badge.svg\" alt=\"Open In Colab\"/></a>"
      ]
    },
    {
      "cell_type": "code",
      "execution_count": null,
      "id": "9868ae18",
      "metadata": {
        "id": "9868ae18"
      },
      "outputs": [],
      "source": [
        "import pandas as pd\n",
        "import numpy as np\n",
        "\n",
        "import seaborn as sns\n",
        "from matplotlib import pyplot as plt\n",
        "%matplotlib inline"
      ]
    },
    {
      "cell_type": "code",
      "execution_count": null,
      "id": "3d929ef5",
      "metadata": {
        "id": "3d929ef5",
        "outputId": "f391bc17-aa0f-49a3-8320-1ed5af4e31f0"
      },
      "outputs": [
        {
          "name": "stdout",
          "output_type": "stream",
          "text": [
            "Requirement already satisfied: wget in c:\\users\\odiaka\\anaconda3\\lib\\site-packages (3.2)\n"
          ]
        }
      ],
      "source": [
        "!pip install wget"
      ]
    },
    {
      "cell_type": "markdown",
      "id": "65e25369",
      "metadata": {
        "id": "65e25369"
      },
      "source": [
        "import wget\n",
        "url = 'https://raw.githubusercontent.com/alexeygrigorev/datasets/master/housing.csv'\n",
        "filename = wget.download(url)\n",
        "print(filename)"
      ]
    },
    {
      "cell_type": "code",
      "execution_count": null,
      "id": "bf0f3bbc",
      "metadata": {
        "id": "bf0f3bbc"
      },
      "outputs": [],
      "source": [
        "df = pd.read_csv('housing.csv')"
      ]
    },
    {
      "cell_type": "code",
      "execution_count": null,
      "id": "85b4d12b",
      "metadata": {
        "id": "85b4d12b",
        "outputId": "1b2c75eb-fdd5-4584-d814-810120646e5e"
      },
      "outputs": [
        {
          "data": {
            "text/html": [
              "<div>\n",
              "<style scoped>\n",
              "    .dataframe tbody tr th:only-of-type {\n",
              "        vertical-align: middle;\n",
              "    }\n",
              "\n",
              "    .dataframe tbody tr th {\n",
              "        vertical-align: top;\n",
              "    }\n",
              "\n",
              "    .dataframe thead th {\n",
              "        text-align: right;\n",
              "    }\n",
              "</style>\n",
              "<table border=\"1\" class=\"dataframe\">\n",
              "  <thead>\n",
              "    <tr style=\"text-align: right;\">\n",
              "      <th></th>\n",
              "      <th>longitude</th>\n",
              "      <th>latitude</th>\n",
              "      <th>housing_median_age</th>\n",
              "      <th>total_rooms</th>\n",
              "      <th>total_bedrooms</th>\n",
              "      <th>population</th>\n",
              "      <th>households</th>\n",
              "      <th>median_income</th>\n",
              "      <th>median_house_value</th>\n",
              "      <th>ocean_proximity</th>\n",
              "    </tr>\n",
              "  </thead>\n",
              "  <tbody>\n",
              "    <tr>\n",
              "      <th>0</th>\n",
              "      <td>-122.23</td>\n",
              "      <td>37.88</td>\n",
              "      <td>41.0</td>\n",
              "      <td>880.0</td>\n",
              "      <td>129.0</td>\n",
              "      <td>322.0</td>\n",
              "      <td>126.0</td>\n",
              "      <td>8.3252</td>\n",
              "      <td>452600.0</td>\n",
              "      <td>NEAR BAY</td>\n",
              "    </tr>\n",
              "    <tr>\n",
              "      <th>1</th>\n",
              "      <td>-122.22</td>\n",
              "      <td>37.86</td>\n",
              "      <td>21.0</td>\n",
              "      <td>7099.0</td>\n",
              "      <td>1106.0</td>\n",
              "      <td>2401.0</td>\n",
              "      <td>1138.0</td>\n",
              "      <td>8.3014</td>\n",
              "      <td>358500.0</td>\n",
              "      <td>NEAR BAY</td>\n",
              "    </tr>\n",
              "    <tr>\n",
              "      <th>2</th>\n",
              "      <td>-122.24</td>\n",
              "      <td>37.85</td>\n",
              "      <td>52.0</td>\n",
              "      <td>1467.0</td>\n",
              "      <td>190.0</td>\n",
              "      <td>496.0</td>\n",
              "      <td>177.0</td>\n",
              "      <td>7.2574</td>\n",
              "      <td>352100.0</td>\n",
              "      <td>NEAR BAY</td>\n",
              "    </tr>\n",
              "    <tr>\n",
              "      <th>3</th>\n",
              "      <td>-122.25</td>\n",
              "      <td>37.85</td>\n",
              "      <td>52.0</td>\n",
              "      <td>1274.0</td>\n",
              "      <td>235.0</td>\n",
              "      <td>558.0</td>\n",
              "      <td>219.0</td>\n",
              "      <td>5.6431</td>\n",
              "      <td>341300.0</td>\n",
              "      <td>NEAR BAY</td>\n",
              "    </tr>\n",
              "    <tr>\n",
              "      <th>4</th>\n",
              "      <td>-122.25</td>\n",
              "      <td>37.85</td>\n",
              "      <td>52.0</td>\n",
              "      <td>1627.0</td>\n",
              "      <td>280.0</td>\n",
              "      <td>565.0</td>\n",
              "      <td>259.0</td>\n",
              "      <td>3.8462</td>\n",
              "      <td>342200.0</td>\n",
              "      <td>NEAR BAY</td>\n",
              "    </tr>\n",
              "    <tr>\n",
              "      <th>...</th>\n",
              "      <td>...</td>\n",
              "      <td>...</td>\n",
              "      <td>...</td>\n",
              "      <td>...</td>\n",
              "      <td>...</td>\n",
              "      <td>...</td>\n",
              "      <td>...</td>\n",
              "      <td>...</td>\n",
              "      <td>...</td>\n",
              "      <td>...</td>\n",
              "    </tr>\n",
              "    <tr>\n",
              "      <th>20635</th>\n",
              "      <td>-121.09</td>\n",
              "      <td>39.48</td>\n",
              "      <td>25.0</td>\n",
              "      <td>1665.0</td>\n",
              "      <td>374.0</td>\n",
              "      <td>845.0</td>\n",
              "      <td>330.0</td>\n",
              "      <td>1.5603</td>\n",
              "      <td>78100.0</td>\n",
              "      <td>INLAND</td>\n",
              "    </tr>\n",
              "    <tr>\n",
              "      <th>20636</th>\n",
              "      <td>-121.21</td>\n",
              "      <td>39.49</td>\n",
              "      <td>18.0</td>\n",
              "      <td>697.0</td>\n",
              "      <td>150.0</td>\n",
              "      <td>356.0</td>\n",
              "      <td>114.0</td>\n",
              "      <td>2.5568</td>\n",
              "      <td>77100.0</td>\n",
              "      <td>INLAND</td>\n",
              "    </tr>\n",
              "    <tr>\n",
              "      <th>20637</th>\n",
              "      <td>-121.22</td>\n",
              "      <td>39.43</td>\n",
              "      <td>17.0</td>\n",
              "      <td>2254.0</td>\n",
              "      <td>485.0</td>\n",
              "      <td>1007.0</td>\n",
              "      <td>433.0</td>\n",
              "      <td>1.7000</td>\n",
              "      <td>92300.0</td>\n",
              "      <td>INLAND</td>\n",
              "    </tr>\n",
              "    <tr>\n",
              "      <th>20638</th>\n",
              "      <td>-121.32</td>\n",
              "      <td>39.43</td>\n",
              "      <td>18.0</td>\n",
              "      <td>1860.0</td>\n",
              "      <td>409.0</td>\n",
              "      <td>741.0</td>\n",
              "      <td>349.0</td>\n",
              "      <td>1.8672</td>\n",
              "      <td>84700.0</td>\n",
              "      <td>INLAND</td>\n",
              "    </tr>\n",
              "    <tr>\n",
              "      <th>20639</th>\n",
              "      <td>-121.24</td>\n",
              "      <td>39.37</td>\n",
              "      <td>16.0</td>\n",
              "      <td>2785.0</td>\n",
              "      <td>616.0</td>\n",
              "      <td>1387.0</td>\n",
              "      <td>530.0</td>\n",
              "      <td>2.3886</td>\n",
              "      <td>89400.0</td>\n",
              "      <td>INLAND</td>\n",
              "    </tr>\n",
              "  </tbody>\n",
              "</table>\n",
              "<p>20640 rows × 10 columns</p>\n",
              "</div>"
            ],
            "text/plain": [
              "       longitude  latitude  housing_median_age  total_rooms  total_bedrooms  \\\n",
              "0        -122.23     37.88                41.0        880.0           129.0   \n",
              "1        -122.22     37.86                21.0       7099.0          1106.0   \n",
              "2        -122.24     37.85                52.0       1467.0           190.0   \n",
              "3        -122.25     37.85                52.0       1274.0           235.0   \n",
              "4        -122.25     37.85                52.0       1627.0           280.0   \n",
              "...          ...       ...                 ...          ...             ...   \n",
              "20635    -121.09     39.48                25.0       1665.0           374.0   \n",
              "20636    -121.21     39.49                18.0        697.0           150.0   \n",
              "20637    -121.22     39.43                17.0       2254.0           485.0   \n",
              "20638    -121.32     39.43                18.0       1860.0           409.0   \n",
              "20639    -121.24     39.37                16.0       2785.0           616.0   \n",
              "\n",
              "       population  households  median_income  median_house_value  \\\n",
              "0           322.0       126.0         8.3252            452600.0   \n",
              "1          2401.0      1138.0         8.3014            358500.0   \n",
              "2           496.0       177.0         7.2574            352100.0   \n",
              "3           558.0       219.0         5.6431            341300.0   \n",
              "4           565.0       259.0         3.8462            342200.0   \n",
              "...           ...         ...            ...                 ...   \n",
              "20635       845.0       330.0         1.5603             78100.0   \n",
              "20636       356.0       114.0         2.5568             77100.0   \n",
              "20637      1007.0       433.0         1.7000             92300.0   \n",
              "20638       741.0       349.0         1.8672             84700.0   \n",
              "20639      1387.0       530.0         2.3886             89400.0   \n",
              "\n",
              "      ocean_proximity  \n",
              "0            NEAR BAY  \n",
              "1            NEAR BAY  \n",
              "2            NEAR BAY  \n",
              "3            NEAR BAY  \n",
              "4            NEAR BAY  \n",
              "...               ...  \n",
              "20635          INLAND  \n",
              "20636          INLAND  \n",
              "20637          INLAND  \n",
              "20638          INLAND  \n",
              "20639          INLAND  \n",
              "\n",
              "[20640 rows x 10 columns]"
            ]
          },
          "execution_count": 143,
          "metadata": {},
          "output_type": "execute_result"
        }
      ],
      "source": [
        "df"
      ]
    },
    {
      "cell_type": "code",
      "execution_count": null,
      "id": "9d76757d",
      "metadata": {
        "id": "9d76757d",
        "outputId": "c5544dd0-4e92-494d-b78c-0922a897237c"
      },
      "outputs": [
        {
          "data": {
            "text/plain": [
              "['longitude',\n",
              " 'latitude',\n",
              " 'housing_median_age',\n",
              " 'total_rooms',\n",
              " 'total_bedrooms',\n",
              " 'population',\n",
              " 'households',\n",
              " 'median_income',\n",
              " 'median_house_value']"
            ]
          },
          "execution_count": 144,
          "metadata": {},
          "output_type": "execute_result"
        }
      ],
      "source": [
        "features = ['longitude',\n",
        "'latitude',\n",
        "'housing_median_age',\n",
        "'total_rooms',\n",
        "'total_bedrooms',\n",
        "'population',\n",
        "'households',\n",
        "'median_income',\n",
        "'median_house_value']\n",
        "features"
      ]
    },
    {
      "cell_type": "code",
      "execution_count": null,
      "id": "ae9bcc00",
      "metadata": {
        "id": "ae9bcc00",
        "outputId": "7c1e14af-e328-4294-d2e9-3fe26f57ef62"
      },
      "outputs": [
        {
          "data": {
            "image/png": "[encoded data removed]",
            "text/plain": [
              "<Figure size 432x288 with 1 Axes>"
            ]
          },
          "metadata": {
            "needs_background": "light"
          },
          "output_type": "display_data"
        }
      ],
      "source": [
        "plt.figure(figsize=(6, 4))\n",
        "\n",
        "sns.histplot(df.median_house_value, bins=40, color='blue', alpha=1)\n",
        "plt.ylabel('Frequency')\n",
        "plt.xlabel('Average House Value')\n",
        "plt.title('Distribution of House Prices')\n",
        "\n",
        "plt.show()"
      ]
    },
    {
      "cell_type": "markdown",
      "id": "695e1a51",
      "metadata": {
        "id": "695e1a51"
      },
      "source": [
        "#### Question 1\n",
        "##### Find a feature with missing values. How many missing values does it have?\n",
        "\n",
        "207\n",
        "307\n",
        "408\n",
        "508"
      ]
    },
    {
      "cell_type": "code",
      "execution_count": null,
      "id": "4f5457b1",
      "metadata": {
        "id": "4f5457b1",
        "outputId": "c9799ea2-d4b2-49cf-e0db-96d979d2ea9f"
      },
      "outputs": [
        {
          "data": {
            "text/plain": [
              "longitude               0\n",
              "latitude                0\n",
              "housing_median_age      0\n",
              "total_rooms             0\n",
              "total_bedrooms        207\n",
              "population              0\n",
              "households              0\n",
              "median_income           0\n",
              "median_house_value      0\n",
              "ocean_proximity         0\n",
              "dtype: int64"
            ]
          },
          "execution_count": 146,
          "metadata": {},
          "output_type": "execute_result"
        }
      ],
      "source": [
        "df.isnull().sum()"
      ]
    },
    {
      "cell_type": "markdown",
      "id": "45707efb",
      "metadata": {
        "id": "45707efb"
      },
      "source": [
        "'total_bedrooms' has 207 missing values, and is the ONLY feature with NaN values."
      ]
    },
    {
      "cell_type": "markdown",
      "id": "6dbb37c9",
      "metadata": {
        "id": "6dbb37c9"
      },
      "source": [
        "#### Question 2\n",
        "##### What's the median (50% percentile) for variable 'population'?\n",
        "\n",
        "1133\n",
        "1122\n",
        "1166\n",
        "1188"
      ]
    },
    {
      "cell_type": "code",
      "execution_count": null,
      "id": "3b341b54",
      "metadata": {
        "id": "3b341b54",
        "outputId": "39021f70-caa9-4300-9a34-9c899e5c1ef4"
      },
      "outputs": [
        {
          "data": {
            "text/plain": [
              "1166.0"
            ]
          },
          "execution_count": 147,
          "metadata": {},
          "output_type": "execute_result"
        }
      ],
      "source": [
        "df.population.median()"
      ]
    },
    {
      "cell_type": "markdown",
      "id": "c9d57971",
      "metadata": {
        "id": "c9d57971"
      },
      "source": [
        "#### Question 3\n",
        "##### We need to deal with missing values for the column from Q1.\n",
        "##### We have two options: fill it with 0 or with the mean of this variable.\n",
        "##### Try both options. For each, train a linear regression model without regularization using the code from the lessons.\n",
        "##### For computing the mean, use the training only!\n",
        "##### Use the validation dataset to evaluate the models and compare the RMSE of each option.\n",
        "##### Round the RMSE scores to 2 decimal digits using round(score, 2)\n",
        "##### Which option gives better RMSE?\n",
        "##### Options:\n",
        "\n",
        "##### With 0\n",
        "##### With mean\n",
        "##### Both are equally good"
      ]
    },
    {
      "cell_type": "code",
      "execution_count": null,
      "id": "05119477",
      "metadata": {
        "id": "05119477",
        "outputId": "433e4d97-a9bf-4992-af2b-e24b86d8aa3f"
      },
      "outputs": [
        {
          "data": {
            "text/html": [
              "<div>\n",
              "<style scoped>\n",
              "    .dataframe tbody tr th:only-of-type {\n",
              "        vertical-align: middle;\n",
              "    }\n",
              "\n",
              "    .dataframe tbody tr th {\n",
              "        vertical-align: top;\n",
              "    }\n",
              "\n",
              "    .dataframe thead th {\n",
              "        text-align: right;\n",
              "    }\n",
              "</style>\n",
              "<table border=\"1\" class=\"dataframe\">\n",
              "  <thead>\n",
              "    <tr style=\"text-align: right;\">\n",
              "      <th></th>\n",
              "      <th>longitude</th>\n",
              "      <th>latitude</th>\n",
              "      <th>housing_median_age</th>\n",
              "      <th>total_rooms</th>\n",
              "      <th>total_bedrooms</th>\n",
              "      <th>population</th>\n",
              "      <th>households</th>\n",
              "      <th>median_income</th>\n",
              "      <th>median_house_value</th>\n",
              "    </tr>\n",
              "  </thead>\n",
              "  <tbody>\n",
              "    <tr>\n",
              "      <th>0</th>\n",
              "      <td>-122.23</td>\n",
              "      <td>37.88</td>\n",
              "      <td>41.0</td>\n",
              "      <td>880.0</td>\n",
              "      <td>129.0</td>\n",
              "      <td>322.0</td>\n",
              "      <td>126.0</td>\n",
              "      <td>8.3252</td>\n",
              "      <td>452600.0</td>\n",
              "    </tr>\n",
              "    <tr>\n",
              "      <th>1</th>\n",
              "      <td>-122.22</td>\n",
              "      <td>37.86</td>\n",
              "      <td>21.0</td>\n",
              "      <td>7099.0</td>\n",
              "      <td>1106.0</td>\n",
              "      <td>2401.0</td>\n",
              "      <td>1138.0</td>\n",
              "      <td>8.3014</td>\n",
              "      <td>358500.0</td>\n",
              "    </tr>\n",
              "    <tr>\n",
              "      <th>2</th>\n",
              "      <td>-122.24</td>\n",
              "      <td>37.85</td>\n",
              "      <td>52.0</td>\n",
              "      <td>1467.0</td>\n",
              "      <td>190.0</td>\n",
              "      <td>496.0</td>\n",
              "      <td>177.0</td>\n",
              "      <td>7.2574</td>\n",
              "      <td>352100.0</td>\n",
              "    </tr>\n",
              "    <tr>\n",
              "      <th>3</th>\n",
              "      <td>-122.25</td>\n",
              "      <td>37.85</td>\n",
              "      <td>52.0</td>\n",
              "      <td>1274.0</td>\n",
              "      <td>235.0</td>\n",
              "      <td>558.0</td>\n",
              "      <td>219.0</td>\n",
              "      <td>5.6431</td>\n",
              "      <td>341300.0</td>\n",
              "    </tr>\n",
              "    <tr>\n",
              "      <th>4</th>\n",
              "      <td>-122.25</td>\n",
              "      <td>37.85</td>\n",
              "      <td>52.0</td>\n",
              "      <td>1627.0</td>\n",
              "      <td>280.0</td>\n",
              "      <td>565.0</td>\n",
              "      <td>259.0</td>\n",
              "      <td>3.8462</td>\n",
              "      <td>342200.0</td>\n",
              "    </tr>\n",
              "    <tr>\n",
              "      <th>...</th>\n",
              "      <td>...</td>\n",
              "      <td>...</td>\n",
              "      <td>...</td>\n",
              "      <td>...</td>\n",
              "      <td>...</td>\n",
              "      <td>...</td>\n",
              "      <td>...</td>\n",
              "      <td>...</td>\n",
              "      <td>...</td>\n",
              "    </tr>\n",
              "    <tr>\n",
              "      <th>20635</th>\n",
              "      <td>-121.09</td>\n",
              "      <td>39.48</td>\n",
              "      <td>25.0</td>\n",
              "      <td>1665.0</td>\n",
              "      <td>374.0</td>\n",
              "      <td>845.0</td>\n",
              "      <td>330.0</td>\n",
              "      <td>1.5603</td>\n",
              "      <td>78100.0</td>\n",
              "    </tr>\n",
              "    <tr>\n",
              "      <th>20636</th>\n",
              "      <td>-121.21</td>\n",
              "      <td>39.49</td>\n",
              "      <td>18.0</td>\n",
              "      <td>697.0</td>\n",
              "      <td>150.0</td>\n",
              "      <td>356.0</td>\n",
              "      <td>114.0</td>\n",
              "      <td>2.5568</td>\n",
              "      <td>77100.0</td>\n",
              "    </tr>\n",
              "    <tr>\n",
              "      <th>20637</th>\n",
              "      <td>-121.22</td>\n",
              "      <td>39.43</td>\n",
              "      <td>17.0</td>\n",
              "      <td>2254.0</td>\n",
              "      <td>485.0</td>\n",
              "      <td>1007.0</td>\n",
              "      <td>433.0</td>\n",
              "      <td>1.7000</td>\n",
              "      <td>92300.0</td>\n",
              "    </tr>\n",
              "    <tr>\n",
              "      <th>20638</th>\n",
              "      <td>-121.32</td>\n",
              "      <td>39.43</td>\n",
              "      <td>18.0</td>\n",
              "      <td>1860.0</td>\n",
              "      <td>409.0</td>\n",
              "      <td>741.0</td>\n",
              "      <td>349.0</td>\n",
              "      <td>1.8672</td>\n",
              "      <td>84700.0</td>\n",
              "    </tr>\n",
              "    <tr>\n",
              "      <th>20639</th>\n",
              "      <td>-121.24</td>\n",
              "      <td>39.37</td>\n",
              "      <td>16.0</td>\n",
              "      <td>2785.0</td>\n",
              "      <td>616.0</td>\n",
              "      <td>1387.0</td>\n",
              "      <td>530.0</td>\n",
              "      <td>2.3886</td>\n",
              "      <td>89400.0</td>\n",
              "    </tr>\n",
              "  </tbody>\n",
              "</table>\n",
              "<p>20640 rows × 9 columns</p>\n",
              "</div>"
            ],
            "text/plain": [
              "       longitude  latitude  housing_median_age  total_rooms  total_bedrooms  \\\n",
              "0        -122.23     37.88                41.0        880.0           129.0   \n",
              "1        -122.22     37.86                21.0       7099.0          1106.0   \n",
              "2        -122.24     37.85                52.0       1467.0           190.0   \n",
              "3        -122.25     37.85                52.0       1274.0           235.0   \n",
              "4        -122.25     37.85                52.0       1627.0           280.0   \n",
              "...          ...       ...                 ...          ...             ...   \n",
              "20635    -121.09     39.48                25.0       1665.0           374.0   \n",
              "20636    -121.21     39.49                18.0        697.0           150.0   \n",
              "20637    -121.22     39.43                17.0       2254.0           485.0   \n",
              "20638    -121.32     39.43                18.0       1860.0           409.0   \n",
              "20639    -121.24     39.37                16.0       2785.0           616.0   \n",
              "\n",
              "       population  households  median_income  median_house_value  \n",
              "0           322.0       126.0         8.3252            452600.0  \n",
              "1          2401.0      1138.0         8.3014            358500.0  \n",
              "2           496.0       177.0         7.2574            352100.0  \n",
              "3           558.0       219.0         5.6431            341300.0  \n",
              "4           565.0       259.0         3.8462            342200.0  \n",
              "...           ...         ...            ...                 ...  \n",
              "20635       845.0       330.0         1.5603             78100.0  \n",
              "20636       356.0       114.0         2.5568             77100.0  \n",
              "20637      1007.0       433.0         1.7000             92300.0  \n",
              "20638       741.0       349.0         1.8672             84700.0  \n",
              "20639      1387.0       530.0         2.3886             89400.0  \n",
              "\n",
              "[20640 rows x 9 columns]"
            ]
          },
          "execution_count": 148,
          "metadata": {},
          "output_type": "execute_result"
        }
      ],
      "source": [
        "df = df[features]\n",
        "df"
      ]
    },
    {
      "cell_type": "code",
      "execution_count": null,
      "id": "ad5f17e0",
      "metadata": {
        "id": "ad5f17e0",
        "outputId": "9df83904-6e55-4762-c6b8-16057f7a216a"
      },
      "outputs": [
        {
          "data": {
            "text/html": [
              "<div>\n",
              "<style scoped>\n",
              "    .dataframe tbody tr th:only-of-type {\n",
              "        vertical-align: middle;\n",
              "    }\n",
              "\n",
              "    .dataframe tbody tr th {\n",
              "        vertical-align: top;\n",
              "    }\n",
              "\n",
              "    .dataframe thead th {\n",
              "        text-align: right;\n",
              "    }\n",
              "</style>\n",
              "<table border=\"1\" class=\"dataframe\">\n",
              "  <thead>\n",
              "    <tr style=\"text-align: right;\">\n",
              "      <th></th>\n",
              "      <th>longitude</th>\n",
              "      <th>latitude</th>\n",
              "      <th>housing_median_age</th>\n",
              "      <th>total_rooms</th>\n",
              "      <th>total_bedrooms</th>\n",
              "      <th>population</th>\n",
              "      <th>households</th>\n",
              "      <th>median_income</th>\n",
              "      <th>median_house_value</th>\n",
              "    </tr>\n",
              "  </thead>\n",
              "  <tbody>\n",
              "    <tr>\n",
              "      <th>20046</th>\n",
              "      <td>-119.01</td>\n",
              "      <td>36.06</td>\n",
              "      <td>25.0</td>\n",
              "      <td>1505.0</td>\n",
              "      <td>NaN</td>\n",
              "      <td>1392.0</td>\n",
              "      <td>359.0</td>\n",
              "      <td>1.6812</td>\n",
              "      <td>47700.0</td>\n",
              "    </tr>\n",
              "    <tr>\n",
              "      <th>3024</th>\n",
              "      <td>-119.46</td>\n",
              "      <td>35.14</td>\n",
              "      <td>30.0</td>\n",
              "      <td>2943.0</td>\n",
              "      <td>NaN</td>\n",
              "      <td>1565.0</td>\n",
              "      <td>584.0</td>\n",
              "      <td>2.5313</td>\n",
              "      <td>45800.0</td>\n",
              "    </tr>\n",
              "    <tr>\n",
              "      <th>15663</th>\n",
              "      <td>-122.44</td>\n",
              "      <td>37.80</td>\n",
              "      <td>52.0</td>\n",
              "      <td>3830.0</td>\n",
              "      <td>NaN</td>\n",
              "      <td>1310.0</td>\n",
              "      <td>963.0</td>\n",
              "      <td>3.4801</td>\n",
              "      <td>500001.0</td>\n",
              "    </tr>\n",
              "    <tr>\n",
              "      <th>20484</th>\n",
              "      <td>-118.72</td>\n",
              "      <td>34.28</td>\n",
              "      <td>17.0</td>\n",
              "      <td>3051.0</td>\n",
              "      <td>NaN</td>\n",
              "      <td>1705.0</td>\n",
              "      <td>495.0</td>\n",
              "      <td>5.7376</td>\n",
              "      <td>218600.0</td>\n",
              "    </tr>\n",
              "    <tr>\n",
              "      <th>9814</th>\n",
              "      <td>-121.93</td>\n",
              "      <td>36.62</td>\n",
              "      <td>34.0</td>\n",
              "      <td>2351.0</td>\n",
              "      <td>NaN</td>\n",
              "      <td>1063.0</td>\n",
              "      <td>428.0</td>\n",
              "      <td>3.7250</td>\n",
              "      <td>278000.0</td>\n",
              "    </tr>\n",
              "    <tr>\n",
              "      <th>...</th>\n",
              "      <td>...</td>\n",
              "      <td>...</td>\n",
              "      <td>...</td>\n",
              "      <td>...</td>\n",
              "      <td>...</td>\n",
              "      <td>...</td>\n",
              "      <td>...</td>\n",
              "      <td>...</td>\n",
              "      <td>...</td>\n",
              "    </tr>\n",
              "    <tr>\n",
              "      <th>11284</th>\n",
              "      <td>-117.96</td>\n",
              "      <td>33.78</td>\n",
              "      <td>35.0</td>\n",
              "      <td>1330.0</td>\n",
              "      <td>201.0</td>\n",
              "      <td>658.0</td>\n",
              "      <td>217.0</td>\n",
              "      <td>6.3700</td>\n",
              "      <td>229200.0</td>\n",
              "    </tr>\n",
              "    <tr>\n",
              "      <th>11964</th>\n",
              "      <td>-117.43</td>\n",
              "      <td>34.02</td>\n",
              "      <td>33.0</td>\n",
              "      <td>3084.0</td>\n",
              "      <td>570.0</td>\n",
              "      <td>1753.0</td>\n",
              "      <td>449.0</td>\n",
              "      <td>3.0500</td>\n",
              "      <td>97800.0</td>\n",
              "    </tr>\n",
              "    <tr>\n",
              "      <th>5390</th>\n",
              "      <td>-118.38</td>\n",
              "      <td>34.03</td>\n",
              "      <td>36.0</td>\n",
              "      <td>2101.0</td>\n",
              "      <td>569.0</td>\n",
              "      <td>1756.0</td>\n",
              "      <td>527.0</td>\n",
              "      <td>2.9344</td>\n",
              "      <td>222100.0</td>\n",
              "    </tr>\n",
              "    <tr>\n",
              "      <th>860</th>\n",
              "      <td>-121.96</td>\n",
              "      <td>37.58</td>\n",
              "      <td>15.0</td>\n",
              "      <td>3575.0</td>\n",
              "      <td>597.0</td>\n",
              "      <td>1777.0</td>\n",
              "      <td>559.0</td>\n",
              "      <td>5.7192</td>\n",
              "      <td>283500.0</td>\n",
              "    </tr>\n",
              "    <tr>\n",
              "      <th>15795</th>\n",
              "      <td>-122.42</td>\n",
              "      <td>37.77</td>\n",
              "      <td>52.0</td>\n",
              "      <td>4226.0</td>\n",
              "      <td>1315.0</td>\n",
              "      <td>2619.0</td>\n",
              "      <td>1242.0</td>\n",
              "      <td>2.5755</td>\n",
              "      <td>325000.0</td>\n",
              "    </tr>\n",
              "  </tbody>\n",
              "</table>\n",
              "<p>20640 rows × 9 columns</p>\n",
              "</div>"
            ],
            "text/plain": [
              "       longitude  latitude  housing_median_age  total_rooms  total_bedrooms  \\\n",
              "20046    -119.01     36.06                25.0       1505.0             NaN   \n",
              "3024     -119.46     35.14                30.0       2943.0             NaN   \n",
              "15663    -122.44     37.80                52.0       3830.0             NaN   \n",
              "20484    -118.72     34.28                17.0       3051.0             NaN   \n",
              "9814     -121.93     36.62                34.0       2351.0             NaN   \n",
              "...          ...       ...                 ...          ...             ...   \n",
              "11284    -117.96     33.78                35.0       1330.0           201.0   \n",
              "11964    -117.43     34.02                33.0       3084.0           570.0   \n",
              "5390     -118.38     34.03                36.0       2101.0           569.0   \n",
              "860      -121.96     37.58                15.0       3575.0           597.0   \n",
              "15795    -122.42     37.77                52.0       4226.0          1315.0   \n",
              "\n",
              "       population  households  median_income  median_house_value  \n",
              "20046      1392.0       359.0         1.6812             47700.0  \n",
              "3024       1565.0       584.0         2.5313             45800.0  \n",
              "15663      1310.0       963.0         3.4801            500001.0  \n",
              "20484      1705.0       495.0         5.7376            218600.0  \n",
              "9814       1063.0       428.0         3.7250            278000.0  \n",
              "...           ...         ...            ...                 ...  \n",
              "11284       658.0       217.0         6.3700            229200.0  \n",
              "11964      1753.0       449.0         3.0500             97800.0  \n",
              "5390       1756.0       527.0         2.9344            222100.0  \n",
              "860        1777.0       559.0         5.7192            283500.0  \n",
              "15795      2619.0      1242.0         2.5755            325000.0  \n",
              "\n",
              "[20640 rows x 9 columns]"
            ]
          },
          "execution_count": 149,
          "metadata": {},
          "output_type": "execute_result"
        }
      ],
      "source": [
        "np.random.seed(42)\n",
        "idx = np.arange(len(df))    #to mimic the index of df\n",
        "np.random.shuffle(idx)\n",
        "\n",
        "df_shuffled = df.iloc[idx]\n",
        "df_shuffled"
      ]
    },
    {
      "cell_type": "code",
      "execution_count": null,
      "id": "c890102c",
      "metadata": {
        "id": "c890102c"
      },
      "outputs": [],
      "source": [
        "n = len(df)\n",
        "\n",
        "n_val = int(0.2 * n)\n",
        "n_test = int(0.2 * n)\n",
        "n_train = n - (n_val + n_test)\n",
        "\n",
        "\n",
        "df_train = df_shuffled.iloc[:n_train].copy()\n",
        "df_val = df_shuffled.iloc[n_train:n_train+n_val].copy()\n",
        "df_test = df_shuffled.iloc[n_train+n_val:].copy()"
      ]
    },
    {
      "cell_type": "code",
      "execution_count": null,
      "id": "9a62dff9",
      "metadata": {
        "id": "9a62dff9",
        "outputId": "06d668e1-7e24-498a-fd44-45ad6f552ad7"
      },
      "outputs": [
        {
          "data": {
            "text/html": [
              "<div>\n",
              "<style scoped>\n",
              "    .dataframe tbody tr th:only-of-type {\n",
              "        vertical-align: middle;\n",
              "    }\n",
              "\n",
              "    .dataframe tbody tr th {\n",
              "        vertical-align: top;\n",
              "    }\n",
              "\n",
              "    .dataframe thead th {\n",
              "        text-align: right;\n",
              "    }\n",
              "</style>\n",
              "<table border=\"1\" class=\"dataframe\">\n",
              "  <thead>\n",
              "    <tr style=\"text-align: right;\">\n",
              "      <th></th>\n",
              "      <th>longitude</th>\n",
              "      <th>latitude</th>\n",
              "      <th>housing_median_age</th>\n",
              "      <th>total_rooms</th>\n",
              "      <th>total_bedrooms</th>\n",
              "      <th>population</th>\n",
              "      <th>households</th>\n",
              "      <th>median_income</th>\n",
              "      <th>median_house_value</th>\n",
              "    </tr>\n",
              "  </thead>\n",
              "  <tbody>\n",
              "    <tr>\n",
              "      <th>20046</th>\n",
              "      <td>-119.01</td>\n",
              "      <td>36.06</td>\n",
              "      <td>25.0</td>\n",
              "      <td>1505.0</td>\n",
              "      <td>NaN</td>\n",
              "      <td>1392.0</td>\n",
              "      <td>359.0</td>\n",
              "      <td>1.6812</td>\n",
              "      <td>47700.0</td>\n",
              "    </tr>\n",
              "    <tr>\n",
              "      <th>3024</th>\n",
              "      <td>-119.46</td>\n",
              "      <td>35.14</td>\n",
              "      <td>30.0</td>\n",
              "      <td>2943.0</td>\n",
              "      <td>NaN</td>\n",
              "      <td>1565.0</td>\n",
              "      <td>584.0</td>\n",
              "      <td>2.5313</td>\n",
              "      <td>45800.0</td>\n",
              "    </tr>\n",
              "    <tr>\n",
              "      <th>15663</th>\n",
              "      <td>-122.44</td>\n",
              "      <td>37.80</td>\n",
              "      <td>52.0</td>\n",
              "      <td>3830.0</td>\n",
              "      <td>NaN</td>\n",
              "      <td>1310.0</td>\n",
              "      <td>963.0</td>\n",
              "      <td>3.4801</td>\n",
              "      <td>500001.0</td>\n",
              "    </tr>\n",
              "    <tr>\n",
              "      <th>20484</th>\n",
              "      <td>-118.72</td>\n",
              "      <td>34.28</td>\n",
              "      <td>17.0</td>\n",
              "      <td>3051.0</td>\n",
              "      <td>NaN</td>\n",
              "      <td>1705.0</td>\n",
              "      <td>495.0</td>\n",
              "      <td>5.7376</td>\n",
              "      <td>218600.0</td>\n",
              "    </tr>\n",
              "    <tr>\n",
              "      <th>9814</th>\n",
              "      <td>-121.93</td>\n",
              "      <td>36.62</td>\n",
              "      <td>34.0</td>\n",
              "      <td>2351.0</td>\n",
              "      <td>NaN</td>\n",
              "      <td>1063.0</td>\n",
              "      <td>428.0</td>\n",
              "      <td>3.7250</td>\n",
              "      <td>278000.0</td>\n",
              "    </tr>\n",
              "    <tr>\n",
              "      <th>...</th>\n",
              "      <td>...</td>\n",
              "      <td>...</td>\n",
              "      <td>...</td>\n",
              "      <td>...</td>\n",
              "      <td>...</td>\n",
              "      <td>...</td>\n",
              "      <td>...</td>\n",
              "      <td>...</td>\n",
              "      <td>...</td>\n",
              "    </tr>\n",
              "    <tr>\n",
              "      <th>10292</th>\n",
              "      <td>-117.81</td>\n",
              "      <td>33.88</td>\n",
              "      <td>19.0</td>\n",
              "      <td>2265.0</td>\n",
              "      <td>283.0</td>\n",
              "      <td>904.0</td>\n",
              "      <td>279.0</td>\n",
              "      <td>9.2327</td>\n",
              "      <td>461300.0</td>\n",
              "    </tr>\n",
              "    <tr>\n",
              "      <th>16722</th>\n",
              "      <td>-120.68</td>\n",
              "      <td>35.48</td>\n",
              "      <td>15.0</td>\n",
              "      <td>2608.0</td>\n",
              "      <td>525.0</td>\n",
              "      <td>1351.0</td>\n",
              "      <td>502.0</td>\n",
              "      <td>2.7798</td>\n",
              "      <td>205800.0</td>\n",
              "    </tr>\n",
              "    <tr>\n",
              "      <th>11730</th>\n",
              "      <td>-120.91</td>\n",
              "      <td>38.98</td>\n",
              "      <td>13.0</td>\n",
              "      <td>7689.0</td>\n",
              "      <td>1415.0</td>\n",
              "      <td>3264.0</td>\n",
              "      <td>1198.0</td>\n",
              "      <td>3.6530</td>\n",
              "      <td>146800.0</td>\n",
              "    </tr>\n",
              "    <tr>\n",
              "      <th>5993</th>\n",
              "      <td>-117.72</td>\n",
              "      <td>34.09</td>\n",
              "      <td>36.0</td>\n",
              "      <td>1473.0</td>\n",
              "      <td>328.0</td>\n",
              "      <td>785.0</td>\n",
              "      <td>299.0</td>\n",
              "      <td>3.2566</td>\n",
              "      <td>151800.0</td>\n",
              "    </tr>\n",
              "    <tr>\n",
              "      <th>15993</th>\n",
              "      <td>-122.47</td>\n",
              "      <td>37.76</td>\n",
              "      <td>34.0</td>\n",
              "      <td>2807.0</td>\n",
              "      <td>487.0</td>\n",
              "      <td>1152.0</td>\n",
              "      <td>445.0</td>\n",
              "      <td>5.1893</td>\n",
              "      <td>420300.0</td>\n",
              "    </tr>\n",
              "  </tbody>\n",
              "</table>\n",
              "<p>12384 rows × 9 columns</p>\n",
              "</div>"
            ],
            "text/plain": [
              "       longitude  latitude  housing_median_age  total_rooms  total_bedrooms  \\\n",
              "20046    -119.01     36.06                25.0       1505.0             NaN   \n",
              "3024     -119.46     35.14                30.0       2943.0             NaN   \n",
              "15663    -122.44     37.80                52.0       3830.0             NaN   \n",
              "20484    -118.72     34.28                17.0       3051.0             NaN   \n",
              "9814     -121.93     36.62                34.0       2351.0             NaN   \n",
              "...          ...       ...                 ...          ...             ...   \n",
              "10292    -117.81     33.88                19.0       2265.0           283.0   \n",
              "16722    -120.68     35.48                15.0       2608.0           525.0   \n",
              "11730    -120.91     38.98                13.0       7689.0          1415.0   \n",
              "5993     -117.72     34.09                36.0       1473.0           328.0   \n",
              "15993    -122.47     37.76                34.0       2807.0           487.0   \n",
              "\n",
              "       population  households  median_income  median_house_value  \n",
              "20046      1392.0       359.0         1.6812             47700.0  \n",
              "3024       1565.0       584.0         2.5313             45800.0  \n",
              "15663      1310.0       963.0         3.4801            500001.0  \n",
              "20484      1705.0       495.0         5.7376            218600.0  \n",
              "9814       1063.0       428.0         3.7250            278000.0  \n",
              "...           ...         ...            ...                 ...  \n",
              "10292       904.0       279.0         9.2327            461300.0  \n",
              "16722      1351.0       502.0         2.7798            205800.0  \n",
              "11730      3264.0      1198.0         3.6530            146800.0  \n",
              "5993        785.0       299.0         3.2566            151800.0  \n",
              "15993      1152.0       445.0         5.1893            420300.0  \n",
              "\n",
              "[12384 rows x 9 columns]"
            ]
          },
          "execution_count": 151,
          "metadata": {},
          "output_type": "execute_result"
        }
      ],
      "source": [
        "df_train"
      ]
    },
    {
      "cell_type": "code",
      "execution_count": null,
      "id": "63ee4697",
      "metadata": {
        "id": "63ee4697",
        "outputId": "b976e553-1ccc-4567-c7e5-ac64e5247ac0"
      },
      "outputs": [
        {
          "data": {
            "text/html": [
              "<div>\n",
              "<style scoped>\n",
              "    .dataframe tbody tr th:only-of-type {\n",
              "        vertical-align: middle;\n",
              "    }\n",
              "\n",
              "    .dataframe tbody tr th {\n",
              "        vertical-align: top;\n",
              "    }\n",
              "\n",
              "    .dataframe thead th {\n",
              "        text-align: right;\n",
              "    }\n",
              "</style>\n",
              "<table border=\"1\" class=\"dataframe\">\n",
              "  <thead>\n",
              "    <tr style=\"text-align: right;\">\n",
              "      <th></th>\n",
              "      <th>longitude</th>\n",
              "      <th>latitude</th>\n",
              "      <th>housing_median_age</th>\n",
              "      <th>total_rooms</th>\n",
              "      <th>total_bedrooms</th>\n",
              "      <th>population</th>\n",
              "      <th>households</th>\n",
              "      <th>median_income</th>\n",
              "      <th>median_house_value</th>\n",
              "    </tr>\n",
              "  </thead>\n",
              "  <tbody>\n",
              "    <tr>\n",
              "      <th>0</th>\n",
              "      <td>-120.85</td>\n",
              "      <td>37.51</td>\n",
              "      <td>15.0</td>\n",
              "      <td>1131.0</td>\n",
              "      <td>285.0</td>\n",
              "      <td>728.0</td>\n",
              "      <td>281.0</td>\n",
              "      <td>1.5531</td>\n",
              "      <td>93100.0</td>\n",
              "    </tr>\n",
              "    <tr>\n",
              "      <th>1</th>\n",
              "      <td>-118.25</td>\n",
              "      <td>34.09</td>\n",
              "      <td>52.0</td>\n",
              "      <td>1866.0</td>\n",
              "      <td>470.0</td>\n",
              "      <td>1211.0</td>\n",
              "      <td>417.0</td>\n",
              "      <td>2.9350</td>\n",
              "      <td>189400.0</td>\n",
              "    </tr>\n",
              "    <tr>\n",
              "      <th>2</th>\n",
              "      <td>-122.02</td>\n",
              "      <td>37.31</td>\n",
              "      <td>34.0</td>\n",
              "      <td>2629.0</td>\n",
              "      <td>433.0</td>\n",
              "      <td>1301.0</td>\n",
              "      <td>431.0</td>\n",
              "      <td>6.0830</td>\n",
              "      <td>341400.0</td>\n",
              "    </tr>\n",
              "    <tr>\n",
              "      <th>3</th>\n",
              "      <td>-121.88</td>\n",
              "      <td>37.30</td>\n",
              "      <td>16.0</td>\n",
              "      <td>2692.0</td>\n",
              "      <td>749.0</td>\n",
              "      <td>1674.0</td>\n",
              "      <td>681.0</td>\n",
              "      <td>2.6763</td>\n",
              "      <td>191100.0</td>\n",
              "    </tr>\n",
              "    <tr>\n",
              "      <th>4</th>\n",
              "      <td>-122.27</td>\n",
              "      <td>37.56</td>\n",
              "      <td>17.0</td>\n",
              "      <td>3211.0</td>\n",
              "      <td>847.0</td>\n",
              "      <td>1553.0</td>\n",
              "      <td>812.0</td>\n",
              "      <td>4.9434</td>\n",
              "      <td>292100.0</td>\n",
              "    </tr>\n",
              "    <tr>\n",
              "      <th>...</th>\n",
              "      <td>...</td>\n",
              "      <td>...</td>\n",
              "      <td>...</td>\n",
              "      <td>...</td>\n",
              "      <td>...</td>\n",
              "      <td>...</td>\n",
              "      <td>...</td>\n",
              "      <td>...</td>\n",
              "      <td>...</td>\n",
              "    </tr>\n",
              "    <tr>\n",
              "      <th>4123</th>\n",
              "      <td>-119.12</td>\n",
              "      <td>36.05</td>\n",
              "      <td>27.0</td>\n",
              "      <td>1575.0</td>\n",
              "      <td>321.0</td>\n",
              "      <td>1063.0</td>\n",
              "      <td>317.0</td>\n",
              "      <td>2.1477</td>\n",
              "      <td>53900.0</td>\n",
              "    </tr>\n",
              "    <tr>\n",
              "      <th>4124</th>\n",
              "      <td>-116.90</td>\n",
              "      <td>33.65</td>\n",
              "      <td>15.0</td>\n",
              "      <td>652.0</td>\n",
              "      <td>149.0</td>\n",
              "      <td>248.0</td>\n",
              "      <td>97.0</td>\n",
              "      <td>2.1071</td>\n",
              "      <td>93800.0</td>\n",
              "    </tr>\n",
              "    <tr>\n",
              "      <th>4125</th>\n",
              "      <td>-120.71</td>\n",
              "      <td>38.34</td>\n",
              "      <td>16.0</td>\n",
              "      <td>1257.0</td>\n",
              "      <td>231.0</td>\n",
              "      <td>559.0</td>\n",
              "      <td>213.0</td>\n",
              "      <td>4.4531</td>\n",
              "      <td>144300.0</td>\n",
              "    </tr>\n",
              "    <tr>\n",
              "      <th>4126</th>\n",
              "      <td>-117.13</td>\n",
              "      <td>32.91</td>\n",
              "      <td>16.0</td>\n",
              "      <td>2715.0</td>\n",
              "      <td>581.0</td>\n",
              "      <td>1619.0</td>\n",
              "      <td>584.0</td>\n",
              "      <td>4.0000</td>\n",
              "      <td>154700.0</td>\n",
              "    </tr>\n",
              "    <tr>\n",
              "      <th>4127</th>\n",
              "      <td>-117.93</td>\n",
              "      <td>33.71</td>\n",
              "      <td>10.0</td>\n",
              "      <td>2775.0</td>\n",
              "      <td>717.0</td>\n",
              "      <td>1581.0</td>\n",
              "      <td>633.0</td>\n",
              "      <td>4.1366</td>\n",
              "      <td>158800.0</td>\n",
              "    </tr>\n",
              "  </tbody>\n",
              "</table>\n",
              "<p>4128 rows × 9 columns</p>\n",
              "</div>"
            ],
            "text/plain": [
              "      longitude  latitude  housing_median_age  total_rooms  total_bedrooms  \\\n",
              "0       -120.85     37.51                15.0       1131.0           285.0   \n",
              "1       -118.25     34.09                52.0       1866.0           470.0   \n",
              "2       -122.02     37.31                34.0       2629.0           433.0   \n",
              "3       -121.88     37.30                16.0       2692.0           749.0   \n",
              "4       -122.27     37.56                17.0       3211.0           847.0   \n",
              "...         ...       ...                 ...          ...             ...   \n",
              "4123    -119.12     36.05                27.0       1575.0           321.0   \n",
              "4124    -116.90     33.65                15.0        652.0           149.0   \n",
              "4125    -120.71     38.34                16.0       1257.0           231.0   \n",
              "4126    -117.13     32.91                16.0       2715.0           581.0   \n",
              "4127    -117.93     33.71                10.0       2775.0           717.0   \n",
              "\n",
              "      population  households  median_income  median_house_value  \n",
              "0          728.0       281.0         1.5531             93100.0  \n",
              "1         1211.0       417.0         2.9350            189400.0  \n",
              "2         1301.0       431.0         6.0830            341400.0  \n",
              "3         1674.0       681.0         2.6763            191100.0  \n",
              "4         1553.0       812.0         4.9434            292100.0  \n",
              "...          ...         ...            ...                 ...  \n",
              "4123      1063.0       317.0         2.1477             53900.0  \n",
              "4124       248.0        97.0         2.1071             93800.0  \n",
              "4125       559.0       213.0         4.4531            144300.0  \n",
              "4126      1619.0       584.0         4.0000            154700.0  \n",
              "4127      1581.0       633.0         4.1366            158800.0  \n",
              "\n",
              "[4128 rows x 9 columns]"
            ]
          },
          "execution_count": 152,
          "metadata": {},
          "output_type": "execute_result"
        }
      ],
      "source": [
        "df_val = df_val.reset_index(drop=True)\n",
        "df_val"
      ]
    },
    {
      "cell_type": "code",
      "execution_count": null,
      "id": "123f1a53",
      "metadata": {
        "id": "123f1a53",
        "outputId": "e13b7e25-1ea5-40cf-fbcf-9a4a34207d2e"
      },
      "outputs": [
        {
          "data": {
            "text/html": [
              "<div>\n",
              "<style scoped>\n",
              "    .dataframe tbody tr th:only-of-type {\n",
              "        vertical-align: middle;\n",
              "    }\n",
              "\n",
              "    .dataframe tbody tr th {\n",
              "        vertical-align: top;\n",
              "    }\n",
              "\n",
              "    .dataframe thead th {\n",
              "        text-align: right;\n",
              "    }\n",
              "</style>\n",
              "<table border=\"1\" class=\"dataframe\">\n",
              "  <thead>\n",
              "    <tr style=\"text-align: right;\">\n",
              "      <th></th>\n",
              "      <th>longitude</th>\n",
              "      <th>latitude</th>\n",
              "      <th>housing_median_age</th>\n",
              "      <th>total_rooms</th>\n",
              "      <th>total_bedrooms</th>\n",
              "      <th>population</th>\n",
              "      <th>households</th>\n",
              "      <th>median_income</th>\n",
              "      <th>median_house_value</th>\n",
              "    </tr>\n",
              "  </thead>\n",
              "  <tbody>\n",
              "    <tr>\n",
              "      <th>0</th>\n",
              "      <td>-120.26</td>\n",
              "      <td>37.13</td>\n",
              "      <td>33.0</td>\n",
              "      <td>1239.0</td>\n",
              "      <td>250.0</td>\n",
              "      <td>648.0</td>\n",
              "      <td>227.0</td>\n",
              "      <td>2.0278</td>\n",
              "      <td>58800.0</td>\n",
              "    </tr>\n",
              "    <tr>\n",
              "      <th>1</th>\n",
              "      <td>-117.91</td>\n",
              "      <td>33.86</td>\n",
              "      <td>26.0</td>\n",
              "      <td>2296.0</td>\n",
              "      <td>570.0</td>\n",
              "      <td>1415.0</td>\n",
              "      <td>527.0</td>\n",
              "      <td>2.4732</td>\n",
              "      <td>165800.0</td>\n",
              "    </tr>\n",
              "    <tr>\n",
              "      <th>2</th>\n",
              "      <td>-118.36</td>\n",
              "      <td>34.04</td>\n",
              "      <td>48.0</td>\n",
              "      <td>1769.0</td>\n",
              "      <td>429.0</td>\n",
              "      <td>993.0</td>\n",
              "      <td>405.0</td>\n",
              "      <td>2.3214</td>\n",
              "      <td>139400.0</td>\n",
              "    </tr>\n",
              "    <tr>\n",
              "      <th>3</th>\n",
              "      <td>-118.15</td>\n",
              "      <td>34.69</td>\n",
              "      <td>32.0</td>\n",
              "      <td>1300.0</td>\n",
              "      <td>234.0</td>\n",
              "      <td>712.0</td>\n",
              "      <td>249.0</td>\n",
              "      <td>3.2500</td>\n",
              "      <td>107500.0</td>\n",
              "    </tr>\n",
              "    <tr>\n",
              "      <th>4</th>\n",
              "      <td>-119.97</td>\n",
              "      <td>38.93</td>\n",
              "      <td>24.0</td>\n",
              "      <td>856.0</td>\n",
              "      <td>185.0</td>\n",
              "      <td>388.0</td>\n",
              "      <td>108.0</td>\n",
              "      <td>3.1806</td>\n",
              "      <td>107200.0</td>\n",
              "    </tr>\n",
              "    <tr>\n",
              "      <th>...</th>\n",
              "      <td>...</td>\n",
              "      <td>...</td>\n",
              "      <td>...</td>\n",
              "      <td>...</td>\n",
              "      <td>...</td>\n",
              "      <td>...</td>\n",
              "      <td>...</td>\n",
              "      <td>...</td>\n",
              "      <td>...</td>\n",
              "    </tr>\n",
              "    <tr>\n",
              "      <th>4123</th>\n",
              "      <td>-117.96</td>\n",
              "      <td>33.78</td>\n",
              "      <td>35.0</td>\n",
              "      <td>1330.0</td>\n",
              "      <td>201.0</td>\n",
              "      <td>658.0</td>\n",
              "      <td>217.0</td>\n",
              "      <td>6.3700</td>\n",
              "      <td>229200.0</td>\n",
              "    </tr>\n",
              "    <tr>\n",
              "      <th>4124</th>\n",
              "      <td>-117.43</td>\n",
              "      <td>34.02</td>\n",
              "      <td>33.0</td>\n",
              "      <td>3084.0</td>\n",
              "      <td>570.0</td>\n",
              "      <td>1753.0</td>\n",
              "      <td>449.0</td>\n",
              "      <td>3.0500</td>\n",
              "      <td>97800.0</td>\n",
              "    </tr>\n",
              "    <tr>\n",
              "      <th>4125</th>\n",
              "      <td>-118.38</td>\n",
              "      <td>34.03</td>\n",
              "      <td>36.0</td>\n",
              "      <td>2101.0</td>\n",
              "      <td>569.0</td>\n",
              "      <td>1756.0</td>\n",
              "      <td>527.0</td>\n",
              "      <td>2.9344</td>\n",
              "      <td>222100.0</td>\n",
              "    </tr>\n",
              "    <tr>\n",
              "      <th>4126</th>\n",
              "      <td>-121.96</td>\n",
              "      <td>37.58</td>\n",
              "      <td>15.0</td>\n",
              "      <td>3575.0</td>\n",
              "      <td>597.0</td>\n",
              "      <td>1777.0</td>\n",
              "      <td>559.0</td>\n",
              "      <td>5.7192</td>\n",
              "      <td>283500.0</td>\n",
              "    </tr>\n",
              "    <tr>\n",
              "      <th>4127</th>\n",
              "      <td>-122.42</td>\n",
              "      <td>37.77</td>\n",
              "      <td>52.0</td>\n",
              "      <td>4226.0</td>\n",
              "      <td>1315.0</td>\n",
              "      <td>2619.0</td>\n",
              "      <td>1242.0</td>\n",
              "      <td>2.5755</td>\n",
              "      <td>325000.0</td>\n",
              "    </tr>\n",
              "  </tbody>\n",
              "</table>\n",
              "<p>4128 rows × 9 columns</p>\n",
              "</div>"
            ],
            "text/plain": [
              "      longitude  latitude  housing_median_age  total_rooms  total_bedrooms  \\\n",
              "0       -120.26     37.13                33.0       1239.0           250.0   \n",
              "1       -117.91     33.86                26.0       2296.0           570.0   \n",
              "2       -118.36     34.04                48.0       1769.0           429.0   \n",
              "3       -118.15     34.69                32.0       1300.0           234.0   \n",
              "4       -119.97     38.93                24.0        856.0           185.0   \n",
              "...         ...       ...                 ...          ...             ...   \n",
              "4123    -117.96     33.78                35.0       1330.0           201.0   \n",
              "4124    -117.43     34.02                33.0       3084.0           570.0   \n",
              "4125    -118.38     34.03                36.0       2101.0           569.0   \n",
              "4126    -121.96     37.58                15.0       3575.0           597.0   \n",
              "4127    -122.42     37.77                52.0       4226.0          1315.0   \n",
              "\n",
              "      population  households  median_income  median_house_value  \n",
              "0          648.0       227.0         2.0278             58800.0  \n",
              "1         1415.0       527.0         2.4732            165800.0  \n",
              "2          993.0       405.0         2.3214            139400.0  \n",
              "3          712.0       249.0         3.2500            107500.0  \n",
              "4          388.0       108.0         3.1806            107200.0  \n",
              "...          ...         ...            ...                 ...  \n",
              "4123       658.0       217.0         6.3700            229200.0  \n",
              "4124      1753.0       449.0         3.0500             97800.0  \n",
              "4125      1756.0       527.0         2.9344            222100.0  \n",
              "4126      1777.0       559.0         5.7192            283500.0  \n",
              "4127      2619.0      1242.0         2.5755            325000.0  \n",
              "\n",
              "[4128 rows x 9 columns]"
            ]
          },
          "execution_count": 153,
          "metadata": {},
          "output_type": "execute_result"
        }
      ],
      "source": [
        "df_test = df_test.reset_index(drop=True)\n",
        "df_test"
      ]
    },
    {
      "cell_type": "code",
      "execution_count": null,
      "id": "020d1bca",
      "metadata": {
        "id": "020d1bca"
      },
      "outputs": [],
      "source": [
        "y_train = np.log1p(df_train.median_house_value.values)\n",
        "y_val = np.log1p(df_val.median_house_value.values)\n",
        "y_test = np.log1p(df_test.median_house_value.values)\n",
        "\n",
        "del df_train['median_house_value']\n",
        "del df_val['median_house_value']\n",
        "del df_test['median_house_value']"
      ]
    },
    {
      "cell_type": "markdown",
      "id": "2f1b3686",
      "metadata": {
        "id": "2f1b3686"
      },
      "source": [
        "##### Replacing NaN values with zero."
      ]
    },
    {
      "cell_type": "code",
      "execution_count": null,
      "id": "cb34f248",
      "metadata": {
        "id": "cb34f248",
        "outputId": "74aec4bd-73f7-4e9e-d63b-8a5bb326f7a1"
      },
      "outputs": [
        {
          "data": {
            "text/plain": [
              "12384"
            ]
          },
          "execution_count": 155,
          "metadata": {},
          "output_type": "execute_result"
        }
      ],
      "source": [
        "len(df_train)"
      ]
    },
    {
      "cell_type": "code",
      "execution_count": null,
      "id": "370da09c",
      "metadata": {
        "id": "370da09c",
        "outputId": "34cd4176-642a-42db-b848-f051051e27f6"
      },
      "outputs": [
        {
          "data": {
            "text/plain": [
              "207"
            ]
          },
          "execution_count": 156,
          "metadata": {},
          "output_type": "execute_result"
        }
      ],
      "source": [
        "df_train.total_bedrooms.isnull().sum()"
      ]
    },
    {
      "cell_type": "code",
      "execution_count": null,
      "id": "1c9ba723",
      "metadata": {
        "id": "1c9ba723",
        "outputId": "6415bd97-7d70-4490-93bf-80e671d484fe"
      },
      "outputs": [
        {
          "data": {
            "text/plain": [
              "0"
            ]
          },
          "execution_count": 157,
          "metadata": {},
          "output_type": "execute_result"
        }
      ],
      "source": [
        "df_val.total_bedrooms.isnull().sum()"
      ]
    },
    {
      "cell_type": "code",
      "execution_count": null,
      "id": "e85890a2",
      "metadata": {
        "id": "e85890a2",
        "outputId": "2c0153cb-ac50-4488-ead3-5cda4a076a0e"
      },
      "outputs": [
        {
          "data": {
            "text/plain": [
              "0"
            ]
          },
          "execution_count": 158,
          "metadata": {},
          "output_type": "execute_result"
        }
      ],
      "source": [
        "df_test.total_bedrooms.isnull().sum()"
      ]
    },
    {
      "cell_type": "code",
      "execution_count": null,
      "id": "155686c9",
      "metadata": {
        "id": "155686c9"
      },
      "outputs": [],
      "source": [
        "df_train.total_bedrooms = df_train.total_bedrooms.fillna(0)"
      ]
    },
    {
      "cell_type": "code",
      "execution_count": null,
      "id": "e1da4fe3",
      "metadata": {
        "id": "e1da4fe3",
        "outputId": "957b4aa0-13d3-4009-86a2-804207b7d223"
      },
      "outputs": [
        {
          "data": {
            "text/plain": [
              "0"
            ]
          },
          "execution_count": 160,
          "metadata": {},
          "output_type": "execute_result"
        }
      ],
      "source": [
        "df_train.total_bedrooms.isnull().sum()"
      ]
    },
    {
      "cell_type": "code",
      "execution_count": null,
      "id": "4f12c117",
      "metadata": {
        "id": "4f12c117",
        "outputId": "1f4f65fb-13e6-496c-b38c-9a21159b62d4"
      },
      "outputs": [
        {
          "data": {
            "text/plain": [
              "longitude             0\n",
              "latitude              0\n",
              "housing_median_age    0\n",
              "total_rooms           0\n",
              "total_bedrooms        0\n",
              "population            0\n",
              "households            0\n",
              "median_income         0\n",
              "dtype: int64"
            ]
          },
          "execution_count": 161,
          "metadata": {},
          "output_type": "execute_result"
        }
      ],
      "source": [
        "df_train.isnull().sum()"
      ]
    },
    {
      "cell_type": "markdown",
      "id": "df24875e",
      "metadata": {
        "id": "df24875e"
      },
      "source": [
        "##### Linear Regression Without RegulariZation."
      ]
    },
    {
      "cell_type": "code",
      "execution_count": null,
      "id": "4adf0779",
      "metadata": {
        "id": "4adf0779",
        "outputId": "70afabfb-5583-43a4-d4e0-255a68b1a6d4"
      },
      "outputs": [
        {
          "name": "stdout",
          "output_type": "stream",
          "text": [
            "12384 , 12384\n"
          ]
        }
      ],
      "source": [
        "print(len(y_train),',', len(df_train))"
      ]
    },
    {
      "cell_type": "code",
      "execution_count": null,
      "id": "e110827e",
      "metadata": {
        "id": "e110827e",
        "outputId": "9e2a2c05-dde0-40c0-930b-b37d3839b605"
      },
      "outputs": [
        {
          "data": {
            "text/plain": [
              "Index(['longitude', 'latitude', 'housing_median_age', 'total_rooms',\n",
              "       'total_bedrooms', 'population', 'households', 'median_income'],\n",
              "      dtype='object')"
            ]
          },
          "execution_count": 163,
          "metadata": {},
          "output_type": "execute_result"
        }
      ],
      "source": [
        "df_train.columns"
      ]
    },
    {
      "cell_type": "code",
      "execution_count": null,
      "id": "b115259e",
      "metadata": {
        "id": "b115259e"
      },
      "outputs": [],
      "source": [
        "def prepare_X(df):\n",
        "    df = df.copy()\n",
        "\n",
        "    df = df.fillna(0)\n",
        "    X = df.values\n",
        "    return X"
      ]
    },
    {
      "cell_type": "code",
      "execution_count": null,
      "id": "28f9a3ab",
      "metadata": {
        "id": "28f9a3ab"
      },
      "outputs": [],
      "source": [
        "def train_linear_regression(X, y):\n",
        "    ones = np.ones(X.shape[0])\n",
        "    X = np.column_stack([ones, X])   #it is like join in pandas\n",
        "\n",
        "    XTX = X.T.dot(X)\n",
        "    XTX_inv = np.linalg.inv(XTX)\n",
        "    w = XTX_inv.dot(X.T).dot(y)\n",
        "    \n",
        "    return w[0], w[1:]"
      ]
    },
    {
      "cell_type": "code",
      "execution_count": null,
      "id": "e212ba10",
      "metadata": {
        "id": "e212ba10"
      },
      "outputs": [],
      "source": [
        "def rmse(y, y_pred):\n",
        "    error = y_pred - y\n",
        "    mse = (error ** 2).mean()\n",
        "    return np.sqrt(mse)\n",
        "\n",
        "y_pred = w_0 + X_train.dot(w)"
      ]
    },
    {
      "cell_type": "code",
      "execution_count": null,
      "id": "403cf249",
      "metadata": {
        "id": "403cf249",
        "outputId": "303d20bb-a9c6-4f7c-ef63-ce6ef2906621"
      },
      "outputs": [
        {
          "name": "stdout",
          "output_type": "stream",
          "text": [
            "train 0.72\n",
            "validation 0.33\n"
          ]
        }
      ],
      "source": [
        "X_train = prepare_X(df_train)\n",
        "w_0, w = train_linear_regression(X_train, y_train)\n",
        "\n",
        "score = rmse(y_train, y_pred)\n",
        "y_pred = w_0 + X_train.dot(w)\n",
        "print('train', round(score, 2))\n",
        "\n",
        "X_val = prepare_X(df_val)\n",
        "y_pred = w_0 + X_val.dot(w)\n",
        "score = rmse(y_val, y_pred)\n",
        "print('validation', round(score, 2))"
      ]
    },
    {
      "cell_type": "markdown",
      "id": "60c3be3b",
      "metadata": {
        "id": "60c3be3b"
      },
      "source": [
        "##### Replacing NaN values with mean."
      ]
    },
    {
      "cell_type": "code",
      "execution_count": null,
      "id": "16a8dacd",
      "metadata": {
        "id": "16a8dacd",
        "outputId": "9a6fd22b-0e63-4ec2-fcb2-2fa6c787e8a9"
      },
      "outputs": [
        {
          "data": {
            "text/html": [
              "<div>\n",
              "<style scoped>\n",
              "    .dataframe tbody tr th:only-of-type {\n",
              "        vertical-align: middle;\n",
              "    }\n",
              "\n",
              "    .dataframe tbody tr th {\n",
              "        vertical-align: top;\n",
              "    }\n",
              "\n",
              "    .dataframe thead th {\n",
              "        text-align: right;\n",
              "    }\n",
              "</style>\n",
              "<table border=\"1\" class=\"dataframe\">\n",
              "  <thead>\n",
              "    <tr style=\"text-align: right;\">\n",
              "      <th></th>\n",
              "      <th>longitude</th>\n",
              "      <th>latitude</th>\n",
              "      <th>housing_median_age</th>\n",
              "      <th>total_rooms</th>\n",
              "      <th>total_bedrooms</th>\n",
              "      <th>population</th>\n",
              "      <th>households</th>\n",
              "      <th>median_income</th>\n",
              "    </tr>\n",
              "  </thead>\n",
              "  <tbody>\n",
              "    <tr>\n",
              "      <th>20046</th>\n",
              "      <td>-119.01</td>\n",
              "      <td>36.06</td>\n",
              "      <td>25.0</td>\n",
              "      <td>1505.0</td>\n",
              "      <td>0.0</td>\n",
              "      <td>1392.0</td>\n",
              "      <td>359.0</td>\n",
              "      <td>1.6812</td>\n",
              "    </tr>\n",
              "    <tr>\n",
              "      <th>3024</th>\n",
              "      <td>-119.46</td>\n",
              "      <td>35.14</td>\n",
              "      <td>30.0</td>\n",
              "      <td>2943.0</td>\n",
              "      <td>0.0</td>\n",
              "      <td>1565.0</td>\n",
              "      <td>584.0</td>\n",
              "      <td>2.5313</td>\n",
              "    </tr>\n",
              "    <tr>\n",
              "      <th>15663</th>\n",
              "      <td>-122.44</td>\n",
              "      <td>37.80</td>\n",
              "      <td>52.0</td>\n",
              "      <td>3830.0</td>\n",
              "      <td>0.0</td>\n",
              "      <td>1310.0</td>\n",
              "      <td>963.0</td>\n",
              "      <td>3.4801</td>\n",
              "    </tr>\n",
              "    <tr>\n",
              "      <th>20484</th>\n",
              "      <td>-118.72</td>\n",
              "      <td>34.28</td>\n",
              "      <td>17.0</td>\n",
              "      <td>3051.0</td>\n",
              "      <td>0.0</td>\n",
              "      <td>1705.0</td>\n",
              "      <td>495.0</td>\n",
              "      <td>5.7376</td>\n",
              "    </tr>\n",
              "    <tr>\n",
              "      <th>9814</th>\n",
              "      <td>-121.93</td>\n",
              "      <td>36.62</td>\n",
              "      <td>34.0</td>\n",
              "      <td>2351.0</td>\n",
              "      <td>0.0</td>\n",
              "      <td>1063.0</td>\n",
              "      <td>428.0</td>\n",
              "      <td>3.7250</td>\n",
              "    </tr>\n",
              "  </tbody>\n",
              "</table>\n",
              "</div>"
            ],
            "text/plain": [
              "       longitude  latitude  housing_median_age  total_rooms  total_bedrooms  \\\n",
              "20046    -119.01     36.06                25.0       1505.0             0.0   \n",
              "3024     -119.46     35.14                30.0       2943.0             0.0   \n",
              "15663    -122.44     37.80                52.0       3830.0             0.0   \n",
              "20484    -118.72     34.28                17.0       3051.0             0.0   \n",
              "9814     -121.93     36.62                34.0       2351.0             0.0   \n",
              "\n",
              "       population  households  median_income  \n",
              "20046      1392.0       359.0         1.6812  \n",
              "3024       1565.0       584.0         2.5313  \n",
              "15663      1310.0       963.0         3.4801  \n",
              "20484      1705.0       495.0         5.7376  \n",
              "9814       1063.0       428.0         3.7250  "
            ]
          },
          "execution_count": 168,
          "metadata": {},
          "output_type": "execute_result"
        }
      ],
      "source": [
        "df_train.head()"
      ]
    },
    {
      "cell_type": "code",
      "execution_count": null,
      "id": "19985916",
      "metadata": {
        "id": "19985916",
        "outputId": "ba28623f-c991-406e-8701-d25f06b70447"
      },
      "outputs": [
        {
          "data": {
            "text/plain": [
              "longitude             0\n",
              "latitude              0\n",
              "housing_median_age    0\n",
              "total_rooms           0\n",
              "total_bedrooms        0\n",
              "population            0\n",
              "households            0\n",
              "median_income         0\n",
              "dtype: int64"
            ]
          },
          "execution_count": 169,
          "metadata": {},
          "output_type": "execute_result"
        }
      ],
      "source": [
        "df_train.isnull().sum()"
      ]
    },
    {
      "cell_type": "code",
      "execution_count": null,
      "id": "37e95bc9",
      "metadata": {
        "id": "37e95bc9",
        "outputId": "4d3a2244-502e-4942-d93b-a49ed5759aab"
      },
      "outputs": [
        {
          "data": {
            "text/plain": [
              "524.5631459948321"
            ]
          },
          "execution_count": 170,
          "metadata": {},
          "output_type": "execute_result"
        }
      ],
      "source": [
        "df_train.total_bedrooms.mean()"
      ]
    },
    {
      "cell_type": "code",
      "execution_count": null,
      "id": "ff308424",
      "metadata": {
        "id": "ff308424",
        "outputId": "126f7e74-7c71-4646-f75c-654db61bf564"
      },
      "outputs": [
        {
          "data": {
            "text/plain": [
              "20046       0.0\n",
              "3024        0.0\n",
              "15663       0.0\n",
              "20484       0.0\n",
              "9814        0.0\n",
              "          ...  \n",
              "10292     283.0\n",
              "16722     525.0\n",
              "11730    1415.0\n",
              "5993      328.0\n",
              "15993     487.0\n",
              "Name: total_bedrooms, Length: 12384, dtype: float64"
            ]
          },
          "execution_count": 171,
          "metadata": {},
          "output_type": "execute_result"
        }
      ],
      "source": [
        "df_train.total_bedrooms = df_train.total_bedrooms.fillna(df_train.total_bedrooms.mean())\n",
        "df_train.total_bedrooms"
      ]
    },
    {
      "cell_type": "code",
      "execution_count": null,
      "id": "aab02606",
      "metadata": {
        "id": "aab02606",
        "outputId": "6367da7c-ca49-4f49-febd-d3932e50434f"
      },
      "outputs": [
        {
          "data": {
            "text/plain": [
              "longitude             0\n",
              "latitude              0\n",
              "housing_median_age    0\n",
              "total_rooms           0\n",
              "total_bedrooms        0\n",
              "population            0\n",
              "households            0\n",
              "median_income         0\n",
              "dtype: int64"
            ]
          },
          "execution_count": 172,
          "metadata": {},
          "output_type": "execute_result"
        }
      ],
      "source": [
        "df_train.isnull().sum()"
      ]
    },
    {
      "cell_type": "markdown",
      "id": "e4f311ff",
      "metadata": {
        "id": "e4f311ff"
      },
      "source": [
        "##### Linear Regression Without RegulariZation."
      ]
    },
    {
      "cell_type": "code",
      "execution_count": null,
      "id": "097a6e6c",
      "metadata": {
        "id": "097a6e6c",
        "outputId": "f3d6874b-902b-40d0-8114-129872a00bb6"
      },
      "outputs": [
        {
          "name": "stdout",
          "output_type": "stream",
          "text": [
            "12384 , 12384\n"
          ]
        }
      ],
      "source": [
        "print(len(y_train),',',len(df_train))"
      ]
    },
    {
      "cell_type": "code",
      "execution_count": null,
      "id": "7212221b",
      "metadata": {
        "id": "7212221b",
        "outputId": "1d7d7eb5-6d60-4c62-c6a9-e3c91022a231"
      },
      "outputs": [
        {
          "data": {
            "text/plain": [
              "Index(['longitude', 'latitude', 'housing_median_age', 'total_rooms',\n",
              "       'total_bedrooms', 'population', 'households', 'median_income'],\n",
              "      dtype='object')"
            ]
          },
          "execution_count": 174,
          "metadata": {},
          "output_type": "execute_result"
        }
      ],
      "source": [
        "df_train.columns"
      ]
    },
    {
      "cell_type": "code",
      "execution_count": null,
      "id": "756da25c",
      "metadata": {
        "id": "756da25c",
        "outputId": "ca2d81f3-a441-4991-e9b8-f3e0402e8205"
      },
      "outputs": [
        {
          "name": "stdout",
          "output_type": "stream",
          "text": [
            "train 0.34\n"
          ]
        }
      ],
      "source": [
        "def prepare_X(df):\n",
        "    df = df.copy()\n",
        "\n",
        "    X = df.values\n",
        "    return X\n",
        "def train_linear_regression(X, y):\n",
        "    ones = np.ones(X.shape[0])\n",
        "    X = np.column_stack([ones, X])   #it is like join in pandas\n",
        "\n",
        "    XTX = X.T.dot(X)\n",
        "    XTX_inv = np.linalg.inv(XTX)\n",
        "    w = XTX_inv.dot(X.T).dot(y)\n",
        "    \n",
        "    return w[0], w[1:]\n",
        "X_train = prepare_X(df_train)\n",
        "w_0, w = train_linear_regression(X_train, y_train)\n",
        "\n",
        "y_pred = w_0 + X_train.dot(w)\n",
        "print('train', round(rmse(y_train, y_pred),2))"
      ]
    },
    {
      "cell_type": "markdown",
      "id": "dd513490",
      "metadata": {
        "id": "dd513490"
      },
      "source": [
        "Very apparent that replacing NaN values with zero, or replacing them with mean, both work just fine. However, it seems like replacing with zero works slightly better.  "
      ]
    },
    {
      "cell_type": "markdown",
      "id": "2f96846c",
      "metadata": {
        "id": "2f96846c"
      },
      "source": [
        "#### Question 4\n",
        "##### Now let's train a regularized linear regression.\n",
        "For this question, fill the NAs with 0.\n",
        "Try different values of r from this list: [0, 0.000001, 0.0001, 0.001, 0.01, 0.1, 1, 5, 10].\n",
        "Use RMSE to evaluate the model on the validation dataset.\n",
        "Round the RMSE scores to 2 decimal digits.\n",
        "Which r gives the best RMSE?\n",
        "If there are multiple options, select the smallest r.\n",
        "\n",
        "Options:\n",
        "\n",
        "0\n",
        "0.000001\n",
        "0.001\n",
        "0.0001"
      ]
    },
    {
      "cell_type": "markdown",
      "id": "aba62511",
      "metadata": {
        "id": "aba62511"
      },
      "source": [
        "##### Linear regression with regularization."
      ]
    },
    {
      "cell_type": "code",
      "execution_count": null,
      "id": "ade58cd5",
      "metadata": {
        "id": "ade58cd5"
      },
      "outputs": [],
      "source": [
        "df = pd.read_csv('housing.csv')"
      ]
    },
    {
      "cell_type": "code",
      "execution_count": null,
      "id": "791ccb16",
      "metadata": {
        "id": "791ccb16"
      },
      "outputs": [],
      "source": [
        "df = df[features]"
      ]
    },
    {
      "cell_type": "code",
      "execution_count": null,
      "id": "9b77d116",
      "metadata": {
        "id": "9b77d116",
        "outputId": "a2ef2991-a906-43b5-f3d9-4193f4c27b1f"
      },
      "outputs": [
        {
          "name": "stdout",
          "output_type": "stream",
          "text": [
            "<class 'pandas.core.frame.DataFrame'>\n",
            "RangeIndex: 20640 entries, 0 to 20639\n",
            "Data columns (total 9 columns):\n",
            " #   Column              Non-Null Count  Dtype  \n",
            "---  ------              --------------  -----  \n",
            " 0   longitude           20640 non-null  float64\n",
            " 1   latitude            20640 non-null  float64\n",
            " 2   housing_median_age  20640 non-null  float64\n",
            " 3   total_rooms         20640 non-null  float64\n",
            " 4   total_bedrooms      20433 non-null  float64\n",
            " 5   population          20640 non-null  float64\n",
            " 6   households          20640 non-null  float64\n",
            " 7   median_income       20640 non-null  float64\n",
            " 8   median_house_value  20640 non-null  float64\n",
            "dtypes: float64(9)\n",
            "memory usage: 1.4 MB\n"
          ]
        }
      ],
      "source": [
        "df.info()"
      ]
    },
    {
      "cell_type": "code",
      "execution_count": null,
      "id": "f06e3005",
      "metadata": {
        "id": "f06e3005"
      },
      "outputs": [],
      "source": [
        "np.random.seed(42)\n",
        "idx = np.arange(len(df))    #to mimic the index of df\n",
        "np.random.shuffle(idx)\n",
        "\n",
        "df_shuffled = df.iloc[idx]\n",
        "n = len(df)\n",
        "\n",
        "n_val = int(0.2 * n)\n",
        "n_test = int(0.2 * n)\n",
        "n_train = n - (n_val + n_test)\n",
        "\n",
        "\n",
        "df_train = df_shuffled.iloc[:n_train].copy()\n",
        "df_val = df_shuffled.iloc[n_train:n_train+n_val].copy()\n",
        "df_test = df_shuffled.iloc[n_train+n_val:].copy()\n",
        "\n",
        "df_val = df_val.reset_index(drop=True)\n",
        "df_test = df_test.reset_index(drop=True)\n",
        "\n",
        "y_train = np.log1p(df_train.median_house_value.values)\n",
        "y_val = np.log1p(df_val.median_house_value.values)\n",
        "y_test = np.log1p(df_test.median_house_value.values)\n",
        "\n",
        "del df_train['median_house_value']\n",
        "del df_val['median_house_value']\n",
        "del df_test['median_house_value']\n",
        "\n",
        "df_train.total_bedrooms = df_train.total_bedrooms.fillna(0)\n"
      ]
    },
    {
      "cell_type": "code",
      "execution_count": null,
      "id": "a93d0c70",
      "metadata": {
        "id": "a93d0c70"
      },
      "outputs": [],
      "source": [
        "X_train = prepare_X(df_train)\n",
        "X_val = prepare_X(df_val)"
      ]
    },
    {
      "cell_type": "code",
      "execution_count": null,
      "id": "8c40de7b",
      "metadata": {
        "id": "8c40de7b"
      },
      "outputs": [],
      "source": [
        "def train_linear_regression_reg(X, y, r=0.0):\n",
        "    ones = np.ones(X.shape[0])\n",
        "    X = np.column_stack([ones, X])\n",
        "\n",
        "    XTX = X.T.dot(X)\n",
        "    reg = r * np.eye(XTX.shape[0])\n",
        "    XTX = XTX + reg\n",
        "\n",
        "    XTX_inv = np.linalg.inv(XTX)\n",
        "    w = XTX_inv.dot(X.T).dot(y)\n",
        "    \n",
        "    return w[0], w[1:]"
      ]
    },
    {
      "cell_type": "code",
      "execution_count": null,
      "id": "f47ff105",
      "metadata": {
        "id": "f47ff105",
        "outputId": "23a46cdd-dadd-46dd-91cf-722ee5beff6a"
      },
      "outputs": [
        {
          "name": "stdout",
          "output_type": "stream",
          "text": [
            " 1e-06 0.33\n",
            "0.0001 0.33\n",
            " 0.001 0.33\n",
            "  0.01 0.33\n",
            "   0.1 0.33\n",
            "     1 0.33\n",
            "     5 0.34\n",
            "    10 0.34\n"
          ]
        }
      ],
      "source": [
        "\n",
        "\n",
        "for r in [0.000001, 0.0001, 0.001, 0.01, 0.1, 1, 5, 10]:\n",
        "    w_0, w = train_linear_regression_reg(X_train, y_train, r=r)\n",
        "    y_pred = w_0 + X_val.dot(w)\n",
        "    print('%6s' %r, np.round(rmse(y_val, y_pred),2))"
      ]
    },
    {
      "cell_type": "code",
      "execution_count": null,
      "id": "abb480c9",
      "metadata": {
        "id": "abb480c9",
        "outputId": "7312bbe5-f804-4370-9471-aed35cc038d9"
      },
      "outputs": [
        {
          "name": "stdout",
          "output_type": "stream",
          "text": [
            "train 0.34\n",
            "val 0.33\n"
          ]
        }
      ],
      "source": [
        "X_train = prepare_X(df_train)\n",
        "w_0, w = train_linear_regression_reg(X_train, y_train, r=0.000001)\n",
        "\n",
        "y_pred = w_0 + X_train.dot(w)\n",
        "print('train', round(rmse(y_train, y_pred),2))\n",
        "\n",
        "X_val = prepare_X(df_val)\n",
        "y_pred = w_0 + X_val.dot(w)\n",
        "print('val', round(rmse(y_val, y_pred),2))"
      ]
    },
    {
      "cell_type": "markdown",
      "id": "96706866",
      "metadata": {
        "id": "96706866"
      },
      "source": [
        " For regularization of this dataset, r=0.000001 is the best value."
      ]
    },
    {
      "cell_type": "markdown",
      "id": "d19cf0e9",
      "metadata": {
        "id": "d19cf0e9"
      },
      "source": [
        "#### Question 5\n",
        "##### We used seed 42 for splitting the data. Let's find out how selecting the seed influences our score.\n",
        "Try different seed values: [0, 1, 2, 3, 4, 5, 6, 7, 8, 9].\n",
        "For each seed, do the train/validation/test split with 60%/20%/20% distribution.\n",
        "Fill the missing values with 0 and train a model without regularization.\n",
        "For each seed, evaluate the model on the validation dataset and collect the RMSE scores.\n",
        "What's the standard deviation of all the scores? To compute the standard deviation, use np.std.\n",
        "Round the result to 3 decimal digits (round(std, 3))\n",
        "Note: Standard deviation shows how different the values are. If it's low, then all values are approximately the same. If it's high, the values are different. If standard deviation of scores is low, then our model is stable.\n",
        "\n",
        "Options:\n",
        "\n",
        "0.16\n",
        "0.00005\n",
        "0.005\n",
        "0.15555"
      ]
    },
    {
      "cell_type": "code",
      "execution_count": null,
      "id": "8476f2bb",
      "metadata": {
        "id": "8476f2bb",
        "outputId": "257dc782-3197-4891-80e3-fd37d0a8478e"
      },
      "outputs": [
        {
          "data": {
            "text/html": [
              "<div>\n",
              "<style scoped>\n",
              "    .dataframe tbody tr th:only-of-type {\n",
              "        vertical-align: middle;\n",
              "    }\n",
              "\n",
              "    .dataframe tbody tr th {\n",
              "        vertical-align: top;\n",
              "    }\n",
              "\n",
              "    .dataframe thead th {\n",
              "        text-align: right;\n",
              "    }\n",
              "</style>\n",
              "<table border=\"1\" class=\"dataframe\">\n",
              "  <thead>\n",
              "    <tr style=\"text-align: right;\">\n",
              "      <th></th>\n",
              "      <th>longitude</th>\n",
              "      <th>latitude</th>\n",
              "      <th>housing_median_age</th>\n",
              "      <th>total_rooms</th>\n",
              "      <th>total_bedrooms</th>\n",
              "      <th>population</th>\n",
              "      <th>households</th>\n",
              "      <th>median_income</th>\n",
              "      <th>median_house_value</th>\n",
              "    </tr>\n",
              "  </thead>\n",
              "  <tbody>\n",
              "    <tr>\n",
              "      <th>0</th>\n",
              "      <td>-122.23</td>\n",
              "      <td>37.88</td>\n",
              "      <td>41.0</td>\n",
              "      <td>880.0</td>\n",
              "      <td>129.0</td>\n",
              "      <td>322.0</td>\n",
              "      <td>126.0</td>\n",
              "      <td>8.3252</td>\n",
              "      <td>452600.0</td>\n",
              "    </tr>\n",
              "    <tr>\n",
              "      <th>1</th>\n",
              "      <td>-122.22</td>\n",
              "      <td>37.86</td>\n",
              "      <td>21.0</td>\n",
              "      <td>7099.0</td>\n",
              "      <td>1106.0</td>\n",
              "      <td>2401.0</td>\n",
              "      <td>1138.0</td>\n",
              "      <td>8.3014</td>\n",
              "      <td>358500.0</td>\n",
              "    </tr>\n",
              "    <tr>\n",
              "      <th>2</th>\n",
              "      <td>-122.24</td>\n",
              "      <td>37.85</td>\n",
              "      <td>52.0</td>\n",
              "      <td>1467.0</td>\n",
              "      <td>190.0</td>\n",
              "      <td>496.0</td>\n",
              "      <td>177.0</td>\n",
              "      <td>7.2574</td>\n",
              "      <td>352100.0</td>\n",
              "    </tr>\n",
              "    <tr>\n",
              "      <th>3</th>\n",
              "      <td>-122.25</td>\n",
              "      <td>37.85</td>\n",
              "      <td>52.0</td>\n",
              "      <td>1274.0</td>\n",
              "      <td>235.0</td>\n",
              "      <td>558.0</td>\n",
              "      <td>219.0</td>\n",
              "      <td>5.6431</td>\n",
              "      <td>341300.0</td>\n",
              "    </tr>\n",
              "    <tr>\n",
              "      <th>4</th>\n",
              "      <td>-122.25</td>\n",
              "      <td>37.85</td>\n",
              "      <td>52.0</td>\n",
              "      <td>1627.0</td>\n",
              "      <td>280.0</td>\n",
              "      <td>565.0</td>\n",
              "      <td>259.0</td>\n",
              "      <td>3.8462</td>\n",
              "      <td>342200.0</td>\n",
              "    </tr>\n",
              "    <tr>\n",
              "      <th>...</th>\n",
              "      <td>...</td>\n",
              "      <td>...</td>\n",
              "      <td>...</td>\n",
              "      <td>...</td>\n",
              "      <td>...</td>\n",
              "      <td>...</td>\n",
              "      <td>...</td>\n",
              "      <td>...</td>\n",
              "      <td>...</td>\n",
              "    </tr>\n",
              "    <tr>\n",
              "      <th>20635</th>\n",
              "      <td>-121.09</td>\n",
              "      <td>39.48</td>\n",
              "      <td>25.0</td>\n",
              "      <td>1665.0</td>\n",
              "      <td>374.0</td>\n",
              "      <td>845.0</td>\n",
              "      <td>330.0</td>\n",
              "      <td>1.5603</td>\n",
              "      <td>78100.0</td>\n",
              "    </tr>\n",
              "    <tr>\n",
              "      <th>20636</th>\n",
              "      <td>-121.21</td>\n",
              "      <td>39.49</td>\n",
              "      <td>18.0</td>\n",
              "      <td>697.0</td>\n",
              "      <td>150.0</td>\n",
              "      <td>356.0</td>\n",
              "      <td>114.0</td>\n",
              "      <td>2.5568</td>\n",
              "      <td>77100.0</td>\n",
              "    </tr>\n",
              "    <tr>\n",
              "      <th>20637</th>\n",
              "      <td>-121.22</td>\n",
              "      <td>39.43</td>\n",
              "      <td>17.0</td>\n",
              "      <td>2254.0</td>\n",
              "      <td>485.0</td>\n",
              "      <td>1007.0</td>\n",
              "      <td>433.0</td>\n",
              "      <td>1.7000</td>\n",
              "      <td>92300.0</td>\n",
              "    </tr>\n",
              "    <tr>\n",
              "      <th>20638</th>\n",
              "      <td>-121.32</td>\n",
              "      <td>39.43</td>\n",
              "      <td>18.0</td>\n",
              "      <td>1860.0</td>\n",
              "      <td>409.0</td>\n",
              "      <td>741.0</td>\n",
              "      <td>349.0</td>\n",
              "      <td>1.8672</td>\n",
              "      <td>84700.0</td>\n",
              "    </tr>\n",
              "    <tr>\n",
              "      <th>20639</th>\n",
              "      <td>-121.24</td>\n",
              "      <td>39.37</td>\n",
              "      <td>16.0</td>\n",
              "      <td>2785.0</td>\n",
              "      <td>616.0</td>\n",
              "      <td>1387.0</td>\n",
              "      <td>530.0</td>\n",
              "      <td>2.3886</td>\n",
              "      <td>89400.0</td>\n",
              "    </tr>\n",
              "  </tbody>\n",
              "</table>\n",
              "<p>20640 rows × 9 columns</p>\n",
              "</div>"
            ],
            "text/plain": [
              "       longitude  latitude  housing_median_age  total_rooms  total_bedrooms  \\\n",
              "0        -122.23     37.88                41.0        880.0           129.0   \n",
              "1        -122.22     37.86                21.0       7099.0          1106.0   \n",
              "2        -122.24     37.85                52.0       1467.0           190.0   \n",
              "3        -122.25     37.85                52.0       1274.0           235.0   \n",
              "4        -122.25     37.85                52.0       1627.0           280.0   \n",
              "...          ...       ...                 ...          ...             ...   \n",
              "20635    -121.09     39.48                25.0       1665.0           374.0   \n",
              "20636    -121.21     39.49                18.0        697.0           150.0   \n",
              "20637    -121.22     39.43                17.0       2254.0           485.0   \n",
              "20638    -121.32     39.43                18.0       1860.0           409.0   \n",
              "20639    -121.24     39.37                16.0       2785.0           616.0   \n",
              "\n",
              "       population  households  median_income  median_house_value  \n",
              "0           322.0       126.0         8.3252            452600.0  \n",
              "1          2401.0      1138.0         8.3014            358500.0  \n",
              "2           496.0       177.0         7.2574            352100.0  \n",
              "3           558.0       219.0         5.6431            341300.0  \n",
              "4           565.0       259.0         3.8462            342200.0  \n",
              "...           ...         ...            ...                 ...  \n",
              "20635       845.0       330.0         1.5603             78100.0  \n",
              "20636       356.0       114.0         2.5568             77100.0  \n",
              "20637      1007.0       433.0         1.7000             92300.0  \n",
              "20638       741.0       349.0         1.8672             84700.0  \n",
              "20639      1387.0       530.0         2.3886             89400.0  \n",
              "\n",
              "[20640 rows x 9 columns]"
            ]
          },
          "execution_count": 207,
          "metadata": {},
          "output_type": "execute_result"
        }
      ],
      "source": [
        "df = df[features]\n",
        "df"
      ]
    },
    {
      "cell_type": "code",
      "execution_count": null,
      "id": "39e47833",
      "metadata": {
        "id": "39e47833",
        "outputId": "87db3467-ec9d-477d-d968-d395dc09b1d7"
      },
      "outputs": [
        {
          "name": "stdout",
          "output_type": "stream",
          "text": [
            "_________________________________________ Seed Value: 0 __________________________________________\n",
            "train: 0.34\n",
            "validation 0.34\n",
            "_________________________________________ Seed Value: 1 __________________________________________\n",
            "train: 0.34\n",
            "validation 0.34\n",
            "_________________________________________ Seed Value: 2 __________________________________________\n",
            "train: 0.34\n",
            "validation 0.33\n",
            "_________________________________________ Seed Value: 3 __________________________________________\n",
            "train: 0.34\n",
            "validation 0.34\n",
            "_________________________________________ Seed Value: 4 __________________________________________\n",
            "train: 0.34\n",
            "validation 0.34\n",
            "_________________________________________ Seed Value: 5 __________________________________________\n",
            "train: 0.34\n",
            "validation 0.34\n",
            "_________________________________________ Seed Value: 6 __________________________________________\n",
            "train: 0.34\n",
            "validation 0.35\n",
            "_________________________________________ Seed Value: 7 __________________________________________\n",
            "train: 0.34\n",
            "validation 0.34\n",
            "_________________________________________ Seed Value: 8 __________________________________________\n",
            "train: 0.34\n",
            "validation 0.35\n",
            "_________________________________________ Seed Value: 9 __________________________________________\n",
            "train: 0.34\n",
            "validation 0.34\n"
          ]
        }
      ],
      "source": [
        "seed = [0, 1, 2, 3, 4, 5, 6, 7, 8, 9]\n",
        "n = len(df)\n",
        "def prepare_X(df):\n",
        "    df = df.copy()\n",
        "    df = df.fillna(0)\n",
        "    X = df.values\n",
        "    return X\n",
        "def train_linear_regression(X, y):\n",
        "    ones = np.ones(X.shape[0])\n",
        "    X = np.column_stack([ones, X])   #it is like join in pandas\n",
        "\n",
        "    XTX = X.T.dot(X)\n",
        "    XTX_inv = np.linalg.inv(XTX)\n",
        "    w = XTX_inv.dot(X.T).dot(y)\n",
        "    \n",
        "    return w[0], w[1:]\n",
        "def rmse(y, y_pred):\n",
        "    error = y_pred - y\n",
        "    mse = (error ** 2).mean()\n",
        "    return np.sqrt(mse)\n",
        "rmses = []\n",
        "\n",
        "\n",
        "for seed in seed:\n",
        "    np.random.seed(seed)\n",
        "    idx = np.arange(len(df))    #to mimic the index of df\n",
        "    np.random.shuffle(idx)\n",
        "    df_shuffled = df.iloc[idx]\n",
        "    df_shuffled = df_shuffled.reset_index(drop=True)\n",
        "    n_val = int(0.2 * n)\n",
        "    n_test = int(0.2 * n)\n",
        "    n_train = n - (n_val + n_test)\n",
        "    df_train = df_shuffled.iloc[:n_train].copy()\n",
        "    df_val = df_shuffled.iloc[n_train:n_train+n_val].copy()\n",
        "    df_test = df_shuffled.iloc[n_train+n_val:].copy()\n",
        "    df_val = df_val.reset_index(drop=True)\n",
        "    df_test = df_test.reset_index(drop=True)\n",
        "    y_train = np.log1p(df_train.median_house_value.values)\n",
        "    y_val = np.log1p(df_val.median_house_value.values)\n",
        "    y_test = np.log1p(df_test.median_house_value.values) \n",
        "    del df_train['median_house_value']\n",
        "    del df_val['median_house_value']\n",
        "    del df_test['median_house_value']\n",
        "    df_train = df_train.fillna(0)\n",
        "    \n",
        "    X_train = prepare_X(df_train)\n",
        "    w_0, w = train_linear_regression(X_train, y_train)\n",
        "    y_pred = w_0 + X_train.dot(w)\n",
        "    score = rmse(y_train, y_pred)\n",
        "    rmses.append(score)\n",
        "    print('_________________________________________ Seed Value:',seed,'__________________________________________')\n",
        "    print('train:', round(score, 2))\n",
        "    \n",
        "    X_val = prepare_X(df_val)\n",
        "    y_pred = w_0 + X_val.dot(w)\n",
        "    score = rmse(y_val, y_pred)\n",
        "    print('validation', round(score, 2))"
      ]
    },
    {
      "cell_type": "code",
      "execution_count": null,
      "id": "2e7e2a65",
      "metadata": {
        "id": "2e7e2a65",
        "outputId": "2d0ae1d0-ed90-44f5-a3bd-872ce1531f5b"
      },
      "outputs": [
        {
          "data": {
            "text/plain": [
              "[0.3428936660920773,\n",
              " 0.3434749539315191,\n",
              " 0.34144289158719443,\n",
              " 0.3424593094851197,\n",
              " 0.3431873276109026,\n",
              " 0.3418520717723793,\n",
              " 0.33909315543550356,\n",
              " 0.3399194290321636,\n",
              " 0.33666582352110036,\n",
              " 0.34097039572841054]"
            ]
          },
          "execution_count": 209,
          "metadata": {},
          "output_type": "execute_result"
        }
      ],
      "source": [
        "rmses"
      ]
    },
    {
      "cell_type": "code",
      "execution_count": null,
      "id": "ffd32a8b",
      "metadata": {
        "id": "ffd32a8b",
        "outputId": "a2526e27-a185-4ae5-8aad-d5af3864cbdb"
      },
      "outputs": [
        {
          "data": {
            "text/plain": [
              "0.002"
            ]
          },
          "execution_count": 210,
          "metadata": {},
          "output_type": "execute_result"
        }
      ],
      "source": [
        "round(np.std(rmses),3)"
      ]
    },
    {
      "cell_type": "markdown",
      "id": "56a709a9",
      "metadata": {
        "id": "56a709a9"
      },
      "source": [
        "The standard deviation of all RMSE scores is 0.002. Option 3, 0.005, is the closest to it so my answer is option 3."
      ]
    },
    {
      "cell_type": "markdown",
      "id": "bc9c9a88",
      "metadata": {
        "id": "bc9c9a88"
      },
      "source": [
        "#### Question 6\n",
        "##### Split the dataset like previously, use seed 9.\n",
        "Combine train and validation datasets.\n",
        "Fill the missing values with 0 and train a model with r=0.001.\n",
        "What's the RMSE on the test dataset?\n",
        "Options:\n",
        "\n",
        "0.35\n",
        "0.135\n",
        "0.450\n",
        "0.245"
      ]
    },
    {
      "cell_type": "code",
      "execution_count": null,
      "id": "5b900486",
      "metadata": {
        "id": "5b900486",
        "outputId": "72d1b8ae-cae0-4acc-fc5b-4ee516cdbc30"
      },
      "outputs": [
        {
          "data": {
            "text/html": [
              "<div>\n",
              "<style scoped>\n",
              "    .dataframe tbody tr th:only-of-type {\n",
              "        vertical-align: middle;\n",
              "    }\n",
              "\n",
              "    .dataframe tbody tr th {\n",
              "        vertical-align: top;\n",
              "    }\n",
              "\n",
              "    .dataframe thead th {\n",
              "        text-align: right;\n",
              "    }\n",
              "</style>\n",
              "<table border=\"1\" class=\"dataframe\">\n",
              "  <thead>\n",
              "    <tr style=\"text-align: right;\">\n",
              "      <th></th>\n",
              "      <th>longitude</th>\n",
              "      <th>latitude</th>\n",
              "      <th>housing_median_age</th>\n",
              "      <th>total_rooms</th>\n",
              "      <th>total_bedrooms</th>\n",
              "      <th>population</th>\n",
              "      <th>households</th>\n",
              "      <th>median_income</th>\n",
              "    </tr>\n",
              "  </thead>\n",
              "  <tbody>\n",
              "    <tr>\n",
              "      <th>0</th>\n",
              "      <td>-121.80</td>\n",
              "      <td>38.67</td>\n",
              "      <td>10.0</td>\n",
              "      <td>2086.0</td>\n",
              "      <td>380.0</td>\n",
              "      <td>1073.0</td>\n",
              "      <td>378.0</td>\n",
              "      <td>4.5526</td>\n",
              "    </tr>\n",
              "    <tr>\n",
              "      <th>1</th>\n",
              "      <td>-117.97</td>\n",
              "      <td>33.66</td>\n",
              "      <td>22.0</td>\n",
              "      <td>3914.0</td>\n",
              "      <td>600.0</td>\n",
              "      <td>1871.0</td>\n",
              "      <td>607.0</td>\n",
              "      <td>5.8541</td>\n",
              "    </tr>\n",
              "    <tr>\n",
              "      <th>2</th>\n",
              "      <td>-124.25</td>\n",
              "      <td>40.28</td>\n",
              "      <td>32.0</td>\n",
              "      <td>1430.0</td>\n",
              "      <td>419.0</td>\n",
              "      <td>434.0</td>\n",
              "      <td>187.0</td>\n",
              "      <td>1.9417</td>\n",
              "    </tr>\n",
              "    <tr>\n",
              "      <th>3</th>\n",
              "      <td>-117.11</td>\n",
              "      <td>32.69</td>\n",
              "      <td>37.0</td>\n",
              "      <td>2395.0</td>\n",
              "      <td>627.0</td>\n",
              "      <td>2489.0</td>\n",
              "      <td>599.0</td>\n",
              "      <td>1.5933</td>\n",
              "    </tr>\n",
              "    <tr>\n",
              "      <th>4</th>\n",
              "      <td>-118.37</td>\n",
              "      <td>34.21</td>\n",
              "      <td>36.0</td>\n",
              "      <td>1392.0</td>\n",
              "      <td>326.0</td>\n",
              "      <td>1181.0</td>\n",
              "      <td>303.0</td>\n",
              "      <td>3.1563</td>\n",
              "    </tr>\n",
              "    <tr>\n",
              "      <th>...</th>\n",
              "      <td>...</td>\n",
              "      <td>...</td>\n",
              "      <td>...</td>\n",
              "      <td>...</td>\n",
              "      <td>...</td>\n",
              "      <td>...</td>\n",
              "      <td>...</td>\n",
              "      <td>...</td>\n",
              "    </tr>\n",
              "    <tr>\n",
              "      <th>16507</th>\n",
              "      <td>-122.30</td>\n",
              "      <td>38.31</td>\n",
              "      <td>34.0</td>\n",
              "      <td>1797.0</td>\n",
              "      <td>395.0</td>\n",
              "      <td>1162.0</td>\n",
              "      <td>407.0</td>\n",
              "      <td>3.4550</td>\n",
              "    </tr>\n",
              "    <tr>\n",
              "      <th>16508</th>\n",
              "      <td>-118.54</td>\n",
              "      <td>34.27</td>\n",
              "      <td>28.0</td>\n",
              "      <td>2309.0</td>\n",
              "      <td>300.0</td>\n",
              "      <td>931.0</td>\n",
              "      <td>302.0</td>\n",
              "      <td>6.7415</td>\n",
              "    </tr>\n",
              "    <tr>\n",
              "      <th>16509</th>\n",
              "      <td>-118.13</td>\n",
              "      <td>33.93</td>\n",
              "      <td>34.0</td>\n",
              "      <td>2122.0</td>\n",
              "      <td>517.0</td>\n",
              "      <td>1578.0</td>\n",
              "      <td>488.0</td>\n",
              "      <td>3.1496</td>\n",
              "    </tr>\n",
              "    <tr>\n",
              "      <th>16510</th>\n",
              "      <td>-118.37</td>\n",
              "      <td>34.11</td>\n",
              "      <td>42.0</td>\n",
              "      <td>5518.0</td>\n",
              "      <td>979.0</td>\n",
              "      <td>1863.0</td>\n",
              "      <td>957.0</td>\n",
              "      <td>8.5842</td>\n",
              "    </tr>\n",
              "    <tr>\n",
              "      <th>16511</th>\n",
              "      <td>-118.37</td>\n",
              "      <td>34.08</td>\n",
              "      <td>52.0</td>\n",
              "      <td>1234.0</td>\n",
              "      <td>223.0</td>\n",
              "      <td>543.0</td>\n",
              "      <td>213.0</td>\n",
              "      <td>6.0338</td>\n",
              "    </tr>\n",
              "  </tbody>\n",
              "</table>\n",
              "<p>16512 rows × 8 columns</p>\n",
              "</div>"
            ],
            "text/plain": [
              "       longitude  latitude  housing_median_age  total_rooms  total_bedrooms  \\\n",
              "0        -121.80     38.67                10.0       2086.0           380.0   \n",
              "1        -117.97     33.66                22.0       3914.0           600.0   \n",
              "2        -124.25     40.28                32.0       1430.0           419.0   \n",
              "3        -117.11     32.69                37.0       2395.0           627.0   \n",
              "4        -118.37     34.21                36.0       1392.0           326.0   \n",
              "...          ...       ...                 ...          ...             ...   \n",
              "16507    -122.30     38.31                34.0       1797.0           395.0   \n",
              "16508    -118.54     34.27                28.0       2309.0           300.0   \n",
              "16509    -118.13     33.93                34.0       2122.0           517.0   \n",
              "16510    -118.37     34.11                42.0       5518.0           979.0   \n",
              "16511    -118.37     34.08                52.0       1234.0           223.0   \n",
              "\n",
              "       population  households  median_income  \n",
              "0          1073.0       378.0         4.5526  \n",
              "1          1871.0       607.0         5.8541  \n",
              "2           434.0       187.0         1.9417  \n",
              "3          2489.0       599.0         1.5933  \n",
              "4          1181.0       303.0         3.1563  \n",
              "...           ...         ...            ...  \n",
              "16507      1162.0       407.0         3.4550  \n",
              "16508       931.0       302.0         6.7415  \n",
              "16509      1578.0       488.0         3.1496  \n",
              "16510      1863.0       957.0         8.5842  \n",
              "16511       543.0       213.0         6.0338  \n",
              "\n",
              "[16512 rows x 8 columns]"
            ]
          },
          "execution_count": 211,
          "metadata": {},
          "output_type": "execute_result"
        }
      ],
      "source": [
        "np.random.seed(9)\n",
        "idx = np.arange(len(df))    #to mimic the index of df\n",
        "np.random.shuffle(idx)\n",
        "df_shuffled = df.iloc[idx]\n",
        "df_shuffled = df_shuffled.reset_index(drop=True)\n",
        "n_val = int(0.2 * n)\n",
        "n_test = int(0.2 * n)\n",
        "n_train = n - (n_val + n_test)\n",
        "df_train = df_shuffled.iloc[:n_train].copy()\n",
        "df_val = df_shuffled.iloc[n_train:n_train+n_val].copy()\n",
        "df_test = df_shuffled.iloc[n_train+n_val:].copy()\n",
        "df_val = df_val.reset_index(drop=True)\n",
        "df_test = df_test.reset_index(drop=True)\n",
        "y_train = np.log1p(df_train.median_house_value.values)\n",
        "y_val = np.log1p(df_val.median_house_value.values)\n",
        "y_test = np.log1p(df_test.median_house_value.values) \n",
        "del df_train['median_house_value']\n",
        "del df_val['median_house_value']\n",
        "del df_test['median_house_value']\n",
        "\n",
        "df_full_train = pd.concat([df_train,df_val])\n",
        "df_full_train = df_full_train.fillna(0).reset_index(drop=True)\n",
        "df_full_train"
      ]
    },
    {
      "cell_type": "code",
      "execution_count": null,
      "id": "5ba69418",
      "metadata": {
        "id": "5ba69418",
        "outputId": "d81d46d8-76f4-49ce-b552-35ce9fa919a9"
      },
      "outputs": [
        {
          "data": {
            "text/plain": [
              "longitude             0\n",
              "latitude              0\n",
              "housing_median_age    0\n",
              "total_rooms           0\n",
              "total_bedrooms        0\n",
              "population            0\n",
              "households            0\n",
              "median_income         0\n",
              "dtype: int64"
            ]
          },
          "execution_count": 212,
          "metadata": {},
          "output_type": "execute_result"
        }
      ],
      "source": [
        "df_full_train.isna().sum()"
      ]
    },
    {
      "cell_type": "code",
      "execution_count": null,
      "id": "539dbc58",
      "metadata": {
        "id": "539dbc58",
        "outputId": "3d97f003-b116-422f-d724-a3764317d8cb"
      },
      "outputs": [
        {
          "data": {
            "text/plain": [
              "array([[-121.8   ,   38.67  ,   10.    , ..., 1073.    ,  378.    ,\n",
              "           4.5526],\n",
              "       [-117.97  ,   33.66  ,   22.    , ..., 1871.    ,  607.    ,\n",
              "           5.8541],\n",
              "       [-124.25  ,   40.28  ,   32.    , ...,  434.    ,  187.    ,\n",
              "           1.9417],\n",
              "       ...,\n",
              "       [-118.13  ,   33.93  ,   34.    , ..., 1578.    ,  488.    ,\n",
              "           3.1496],\n",
              "       [-118.37  ,   34.11  ,   42.    , ..., 1863.    ,  957.    ,\n",
              "           8.5842],\n",
              "       [-118.37  ,   34.08  ,   52.    , ...,  543.    ,  213.    ,\n",
              "           6.0338]])"
            ]
          },
          "execution_count": 213,
          "metadata": {},
          "output_type": "execute_result"
        }
      ],
      "source": [
        "X_full_train = prepare_X(df_full_train)\n",
        "X_full_train"
      ]
    },
    {
      "cell_type": "code",
      "execution_count": null,
      "id": "849f1b56",
      "metadata": {
        "id": "849f1b56"
      },
      "outputs": [],
      "source": [
        "y_full_train = np.concatenate([y_train,y_val])"
      ]
    },
    {
      "cell_type": "code",
      "execution_count": null,
      "id": "9afac1bf",
      "metadata": {
        "id": "9afac1bf"
      },
      "outputs": [],
      "source": [
        "def train_linear_regression_reg(X, y, r=0.0):\n",
        "    ones = np.ones(X.shape[0])\n",
        "    X = np.column_stack([ones, X])\n",
        "\n",
        "    XTX = X.T.dot(X)\n",
        "    reg = r * np.eye(XTX.shape[0])\n",
        "    XTX = XTX + reg\n",
        "\n",
        "    XTX_inv = np.linalg.inv(XTX)\n",
        "    w = XTX_inv.dot(X.T).dot(y)\n",
        "    \n",
        "    return w[0], w[1:]"
      ]
    },
    {
      "cell_type": "code",
      "execution_count": null,
      "id": "8af75b3a",
      "metadata": {
        "id": "8af75b3a"
      },
      "outputs": [],
      "source": [
        "w_0, w = train_linear_regression_reg(X_full_train, y_full_train, r=0.001)"
      ]
    },
    {
      "cell_type": "code",
      "execution_count": null,
      "id": "b2ed26ad",
      "metadata": {
        "id": "b2ed26ad",
        "outputId": "765c229f-f288-4fc6-a810-0f39442f2201"
      },
      "outputs": [
        {
          "name": "stdout",
          "output_type": "stream",
          "text": [
            "RMSE on test data: 0.35\n"
          ]
        }
      ],
      "source": [
        "X_test = prepare_X(df_test)\n",
        "y_pred = w_0 + X_test.dot(w)\n",
        "print('RMSE on test data:', round(rmse(y_test, y_pred),2))"
      ]
    },
    {
      "cell_type": "markdown",
      "id": "a0e14f77",
      "metadata": {
        "id": "a0e14f77"
      },
      "source": [
        "The RMSE is 0.35. Option 1."
      ]
    }
  ],
  "metadata": {
    "kernelspec": {
      "display_name": "Python 3 (ipykernel)",
      "language": "python",
      "name": "python3"
    },
    "language_info": {
      "codemirror_mode": {
        "name": "ipython",
        "version": 3
      },
      "file_extension": ".py",
      "mimetype": "text/x-python",
      "name": "python",
      "nbconvert_exporter": "python",
      "pygments_lexer": "ipython3",
      "version": "3.9.12"
    },
    "colab": {
      "provenance": [],
      "include_colab_link": true
    }
  },
  "nbformat": 4,
  "nbformat_minor": 5
}